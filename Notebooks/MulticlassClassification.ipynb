{
 "cells": [
  {
   "cell_type": "markdown",
   "metadata": {
    "id": "D1XmHIfqa67H"
   },
   "source": [
    "# Classificação de Múltiplas Classes\n",
    "\n",
    "O problema que vamos resolver neste exemplo é o de classificar imagens em escala de cinza de dígitos escritos à mão (28x28 pixels) em 10 diferentes categorias (0 até 9).\n",
    "\n",
    "Para este problema vamos usar o conjunto de dados [MNIST](http://yann.lecun.com/exdb/mnist/), clássico na comunidade de Machine Learning. \n",
    "\n",
    "Trata-se de um conjunto de 60.000 imagens de treinamento e 10.000 imagens de teste, estabelecido pelo National Institute of Standards and Technology (NIST) na década de 80.\n",
    "\n",
    "![img](https://raw.githubusercontent.com/the-akira/DeepLearning/master/Imagens/MNIST.png)\n",
    "\n",
    "Podemos imaginar o MNIST como o \"Hello World\" de **Deep Learning**, nos auxiliando a aprender diversos conceitos importantes.\n",
    "\n",
    "**Importante**: Em Machine Learning, uma *category* (categoria) em um problema de classificação é chamado de *class* (classe). *Data points* são chamados de *samples* (amostras). A *class* associada com um específico *sample* é chamado de *label* (rótulo)."
   ]
  },
  {
   "cell_type": "markdown",
   "metadata": {
    "id": "9OM9vXW8dKY2"
   },
   "source": [
    "Iniciaremos importando os módulos necessários para trabalharmos no problema"
   ]
  },
  {
   "cell_type": "code",
   "execution_count": 1,
   "metadata": {
    "id": "kVCiw2Bm0m7Y"
   },
   "outputs": [],
   "source": [
    "from tensorflow.keras.datasets import mnist\n",
    "from tensorflow.keras.models import Sequential\n",
    "from tensorflow.keras.layers import Dense\n",
    "from tensorflow.keras.utils import to_categorical\n",
    "import matplotlib.pyplot as plt"
   ]
  },
  {
   "cell_type": "markdown",
   "metadata": {
    "id": "rAHhuZvAdVx6"
   },
   "source": [
    "O conjunto de dados MNIST já vem pré-carregado na biblioteca Keras, no formato de quatro Numpy arrays.\n",
    "\n",
    "Vamos então carregá-lo com o comando **load_data()**"
   ]
  },
  {
   "cell_type": "code",
   "execution_count": 2,
   "metadata": {
    "colab": {
     "base_uri": "https://localhost:8080/"
    },
    "id": "WjhLfVYf0uP0",
    "outputId": "a4adbe74-febc-4686-a49c-aaff2e5df580"
   },
   "outputs": [],
   "source": [
    "(train_images, train_labels), (test_images, test_labels) = mnist.load_data();"
   ]
  },
  {
   "cell_type": "markdown",
   "metadata": {
    "id": "_q8JVTA7dxcC"
   },
   "source": [
    "**train_images** e **train_labels** formam o **training set**, que é o nosso conjunto de dados para treinamento de nosso modelo, em outras palavras, os dados que o modelo irá utilizar para aprender.\n",
    "\n",
    "O modelo então será testado no **test set**, formado por **test_images** e **test_labels**.\n",
    "\n",
    "As imagens estão codificadas como Numpy arrays, e os *labels* são um array de dígitos entre 0 e 9.\n",
    "\n",
    "As imagens e labels possuem uma correspondência um-para-um.\n",
    "\n",
    "Vamos então verificar os dados de treinamento"
   ]
  },
  {
   "cell_type": "code",
   "execution_count": 3,
   "metadata": {
    "colab": {
     "base_uri": "https://localhost:8080/"
    },
    "id": "f11jZ0hc0xIp",
    "outputId": "6245c77c-19a1-4c11-de35-4019c239d1a2"
   },
   "outputs": [
    {
     "data": {
      "text/plain": [
       "(60000, 28, 28)"
      ]
     },
     "execution_count": 3,
     "metadata": {},
     "output_type": "execute_result"
    }
   ],
   "source": [
    "train_images.shape"
   ]
  },
  {
   "cell_type": "markdown",
   "metadata": {
    "id": "fMPS06F-emAP"
   },
   "source": [
    "Como já é de nosso conhecimento, contamos com 60.000 imagens de dimensões 28x28 pixels"
   ]
  },
  {
   "cell_type": "code",
   "execution_count": 4,
   "metadata": {
    "colab": {
     "base_uri": "https://localhost:8080/"
    },
    "id": "Hg63EGLL0zzh",
    "outputId": "75eb2391-a585-43ed-c9c8-7476368a67ab"
   },
   "outputs": [
    {
     "data": {
      "text/plain": [
       "60000"
      ]
     },
     "execution_count": 4,
     "metadata": {},
     "output_type": "execute_result"
    }
   ],
   "source": [
    "len(train_labels)"
   ]
  },
  {
   "cell_type": "markdown",
   "metadata": {
    "id": "U1rZ1K7oeurg"
   },
   "source": [
    "Assim como, respectivamente contamos com 60.000 labels de 0 até 9"
   ]
  },
  {
   "cell_type": "code",
   "execution_count": 5,
   "metadata": {
    "colab": {
     "base_uri": "https://localhost:8080/"
    },
    "id": "bJcPh0vv01ak",
    "outputId": "3c965f47-9f78-4ea0-d726-211c769ab400"
   },
   "outputs": [
    {
     "name": "stdout",
     "output_type": "stream",
     "text": [
      "[5 0 4 ... 5 6 8]\n"
     ]
    }
   ],
   "source": [
    "print(train_labels)"
   ]
  },
  {
   "cell_type": "code",
   "execution_count": 6,
   "metadata": {
    "colab": {
     "base_uri": "https://localhost:8080/"
    },
    "id": "Ulkjg6in1CNv",
    "outputId": "eee38e85-3262-403f-ef60-ec6432ac29c6"
   },
   "outputs": [
    {
     "data": {
      "text/plain": [
       "(10000, 28, 28)"
      ]
     },
     "execution_count": 6,
     "metadata": {},
     "output_type": "execute_result"
    }
   ],
   "source": [
    "test_images.shape"
   ]
  },
  {
   "cell_type": "markdown",
   "metadata": {
    "id": "RuebAQT7fE46"
   },
   "source": [
    "Também contamos com 10.000 imagens para teste com labels de 0 até 9"
   ]
  },
  {
   "cell_type": "code",
   "execution_count": 7,
   "metadata": {
    "colab": {
     "base_uri": "https://localhost:8080/"
    },
    "id": "AJc76Gyg1D0t",
    "outputId": "6abd6167-077b-4359-92e6-389ab840fb84"
   },
   "outputs": [
    {
     "data": {
      "text/plain": [
       "10000"
      ]
     },
     "execution_count": 7,
     "metadata": {},
     "output_type": "execute_result"
    }
   ],
   "source": [
    "len(test_labels)"
   ]
  },
  {
   "cell_type": "code",
   "execution_count": 8,
   "metadata": {
    "colab": {
     "base_uri": "https://localhost:8080/"
    },
    "id": "YPcnz6le1Hqa",
    "outputId": "a303ca46-9c2d-416d-d587-caad4c6e240a"
   },
   "outputs": [
    {
     "data": {
      "text/plain": [
       "array([7, 2, 1, ..., 4, 5, 6], dtype=uint8)"
      ]
     },
     "execution_count": 8,
     "metadata": {},
     "output_type": "execute_result"
    }
   ],
   "source": [
    "test_labels"
   ]
  },
  {
   "cell_type": "markdown",
   "metadata": {
    "id": "86WS3DrrfQPg"
   },
   "source": [
    "Para uma melhor intuição, vamos selecionar apenas uma imagem do conjunto de treinamento e vamos usar a biblioteca **matplotlib** para visualizarmos ela"
   ]
  },
  {
   "cell_type": "code",
   "execution_count": 9,
   "metadata": {
    "colab": {
     "base_uri": "https://localhost:8080/"
    },
    "id": "1zGMfKbG1JX2",
    "outputId": "a812d3f7-661c-477a-98f8-3db3c02b5791"
   },
   "outputs": [
    {
     "data": {
      "text/plain": [
       "(28, 28)"
      ]
     },
     "execution_count": 9,
     "metadata": {},
     "output_type": "execute_result"
    }
   ],
   "source": [
    "single_image = train_images[2]\n",
    "single_image.shape"
   ]
  },
  {
   "cell_type": "code",
   "execution_count": 10,
   "metadata": {
    "colab": {
     "base_uri": "https://localhost:8080/",
     "height": 248
    },
    "id": "XuTC2-k21LaY",
    "outputId": "f4f2c710-2d73-44c2-ec8e-45101100a15e"
   },
   "outputs": [
    {
     "data": {
      "image/png": "[encoded data removed]",
      "text/plain": [
       "<Figure size 432x288 with 1 Axes>"
      ]
     },
     "metadata": {
      "needs_background": "light"
     },
     "output_type": "display_data"
    }
   ],
   "source": [
    "plt.imshow(single_image, cmap='binary');\n",
    "plt.axis('off');"
   ]
  },
  {
   "cell_type": "markdown",
   "metadata": {
    "id": "ZUZCUyrUfjZp"
   },
   "source": [
    "Neste exemplo, temos o número **4**, e a label referente a ela também é o número **4**, como já é de nosso conhecimento."
   ]
  },
  {
   "cell_type": "code",
   "execution_count": 11,
   "metadata": {
    "colab": {
     "base_uri": "https://localhost:8080/"
    },
    "id": "V_icztGk1M9K",
    "outputId": "a18acbbe-3156-40ca-ea1f-1671120cee9e"
   },
   "outputs": [
    {
     "name": "stdout",
     "output_type": "stream",
     "text": [
      "4\n"
     ]
    }
   ],
   "source": [
    "print(train_labels[2])"
   ]
  },
  {
   "cell_type": "markdown",
   "metadata": {
    "id": "aMPIO7eAfz_n"
   },
   "source": [
    "Agora que estamos familiarizados com os dados que iremos trabalhar, podemos definir nosso workflow:\n",
    "\n",
    "- Primeiramente, iremos alimentar a rede neural (também chamada de modelo) com os dados de treinamento (**train_images** e **train_labels**)\n",
    "\n",
    "- A rede neural então irá aprender a associar imagens com as labels\n",
    "\n",
    "- Finalmente, pediremos a rede neural para produzir previsões para os dados de treinamento (**test_images**) e então iremos verificar se as previsões produzidas estão de acordo com as labels de **test_labels**.\n",
    "\n",
    "Vamos então construir nosso modelo:"
   ]
  },
  {
   "cell_type": "code",
   "execution_count": 12,
   "metadata": {
    "id": "ZVGij2qz1O1N"
   },
   "outputs": [],
   "source": [
    "network = Sequential()\n",
    "network.add(Dense(512, activation='relu', input_shape=(28 * 28,)))\n",
    "network.add(Dense(10, activation='softmax'))"
   ]
  },
  {
   "cell_type": "markdown",
   "metadata": {
    "id": "8_GJZKuEhPFV"
   },
   "source": [
    "A estrutura principal das redes neurais é a *layer* (camada), um módulo de processamento de dados que podemos imaginar como um filtro para dados.\n",
    "\n",
    "Dados entram nessa layer, são processados e saem de uma maneira útil.\n",
    "\n",
    "Especificamente as layers extraem representações dos dados alimentados a elas.\n",
    "\n",
    "A maior parte de Deep Learning consiste em encadear layers que irão implementar uma forma progressiva de *data distillation*.\n",
    "\n",
    "Um modelo de Deep Learning é como uma peneira para o processo de dados, feito de uma sucessão de filtros de dados cada vez mais refinados: **as layers**.\n",
    "\n",
    "Neste exemplo nossa rede neural consiste de uma sequência de duas [Dense layers](https://www.tensorflow.org/api_docs/python/tf/keras/layers/Dense), ao qual são densamente conectadas (também chamado na literatura de *fully connected*). A segunda (e última) layer é uma *[softmax](https://victorzhou.com/blog/softmax/)* layer com 10 neurônios, o que significa que ela irá retornar um array de 10 pontuações de probabilidade (somando no total 1). Cada pontuação será a probabilidade de que o dígito da imagem atual pertence a uma das 10 classes de dígitos (0 até 9).\n",
    "\n",
    "Para tornarmos a rede neural pronta para o treinamento, precisaremos selecionar mais três elementos como parte da etapa de compilação:\n",
    "\n",
    "- Uma **Função Loss**: Como a rede neural irá medir sua perfomance nos dados de treinamento de forma que ela possa guiá-la a si mesma na direção correta para os melhores resultados.\n",
    "- Um **Optimizer**: O mecanismo pelo qual a rede neural irá atualizar a si mesma baseado nos dados que ela vê e sua **Função Loss**.\n",
    "- **Métricas**: Para monitorar durante o treinamento e teste: Neste exemplo, iremos lidar apenas com *accuracy* (A fração de imagens que foram classificadas corretamente)"
   ]
  },
  {
   "cell_type": "code",
   "execution_count": 13,
   "metadata": {
    "id": "qoXCtPs21Qb7"
   },
   "outputs": [],
   "source": [
    "network.compile(optimizer='rmsprop',loss='categorical_crossentropy',metrics=['accuracy'])"
   ]
  },
  {
   "cell_type": "markdown",
   "metadata": {
    "id": "OOW71PLonLOa"
   },
   "source": [
    "Antes de iniciarmos o treinamento, iremos pré-processar os dados alterando sua forma (reshaping) em um formato que a rede neural aceita e iremos fazer o *scaling* dos dados de forma que eles fiquem no intervalo **[0,1]**.\n",
    "\n",
    "Inicialmente nossas imagens de treinamento se encontram armazenadas em um array de forma (60000, 28, 28) do tipo **uint8** com valores no intervalo **[0,255]**.\n",
    "\n",
    "Vamos transformá-los em um array **float32** de forma (60000, 28 * 28) com valores entre 0 e 1.\n",
    "\n",
    "Também vamos codificar nossas labels categoricamente, em outras palavras, converteremos um vetor de classe (inteiros) em uma matriz de classe binária."
   ]
  },
  {
   "cell_type": "code",
   "execution_count": 14,
   "metadata": {
    "id": "VH0FKVL71R_h"
   },
   "outputs": [],
   "source": [
    "train_images = train_images.reshape((60000, 28 * 28))\n",
    "train_images = train_images.astype('float32') / 255\n",
    "test_images = test_images.reshape((10000, 28 * 28))\n",
    "test_images = test_images.astype('float32') / 255"
   ]
  },
  {
   "cell_type": "code",
   "execution_count": 15,
   "metadata": {
    "id": "o025uIKJ1Tk9"
   },
   "outputs": [],
   "source": [
    "train_labels = to_categorical(train_labels)\n",
    "test_labels = to_categorical(test_labels)"
   ]
  },
  {
   "cell_type": "markdown",
   "metadata": {
    "id": "m9QPjZPWpaJ9"
   },
   "source": [
    "Estamos agora aptos a treinar nossa rede neural, que em Keras significa chamarmos o método **fit()**"
   ]
  },
  {
   "cell_type": "code",
   "execution_count": 16,
   "metadata": {
    "colab": {
     "base_uri": "https://localhost:8080/"
    },
    "id": "ROLR3S7H1VNb",
    "outputId": "1f2b4997-133c-4d3c-faef-39f35c3966ff"
   },
   "outputs": [
    {
     "name": "stdout",
     "output_type": "stream",
     "text": [
      "Epoch 1/5\n",
      "469/469 [==============================] - 5s 11ms/step - loss: 0.2588 - accuracy: 0.9255\n",
      "Epoch 2/5\n",
      "469/469 [==============================] - 5s 11ms/step - loss: 0.1034 - accuracy: 0.9696\n",
      "Epoch 3/5\n",
      "469/469 [==============================] - 5s 11ms/step - loss: 0.0677 - accuracy: 0.9800\n",
      "Epoch 4/5\n",
      "469/469 [==============================] - 5s 12ms/step - loss: 0.0496 - accuracy: 0.9851\n",
      "Epoch 5/5\n",
      "469/469 [==============================] - 5s 11ms/step - loss: 0.0373 - accuracy: 0.9888\n"
     ]
    }
   ],
   "source": [
    "network.fit(train_images, train_labels, epochs=5, batch_size=128);"
   ]
  },
  {
   "cell_type": "markdown",
   "metadata": {
    "id": "Czu6wmgVpmTB"
   },
   "source": [
    "Durante o treinamento duas quantidades estão sendo apresentadas: o *loss* da rede neural sob os dados de treinamento e a *accuracy* da rede neural sob os dados de treinamento.\n",
    "\n",
    "Neste exemplo fomos rapidamente capazes de obter uma *accuracy* de 0.9888 (98.8%) nos dados de treinamento.\n",
    "\n",
    "Vamos então checar se o modelo é capaz de performar bem no conjunto de teste"
   ]
  },
  {
   "cell_type": "code",
   "execution_count": 17,
   "metadata": {
    "colab": {
     "base_uri": "https://localhost:8080/"
    },
    "id": "bKcKN50o1XBC",
    "outputId": "0e52d5c4-e3c3-4c23-a89d-69243dc911ef"
   },
   "outputs": [
    {
     "data": {
      "text/plain": [
       "['loss', 'accuracy']"
      ]
     },
     "execution_count": 17,
     "metadata": {},
     "output_type": "execute_result"
    }
   ],
   "source": [
    "network.metrics_names"
   ]
  },
  {
   "cell_type": "code",
   "execution_count": 20,
   "metadata": {
    "colab": {
     "base_uri": "https://localhost:8080/"
    },
    "id": "PCKIXZVV1dva",
    "outputId": "77b7350a-2b49-4457-a256-caf9c03e079b"
   },
   "outputs": [
    {
     "name": "stdout",
     "output_type": "stream",
     "text": [
      "313/313 [==============================] - 1s 3ms/step - loss: 0.0647 - accuracy: 0.9807\n",
      "test_loss: 0.0646529570221901\n",
      "test_acc: 0.9807000160217285\n"
     ]
    }
   ],
   "source": [
    "test_loss, test_acc = network.evaluate(test_images, test_labels)\n",
    "print(f'test_loss: {test_loss}')\n",
    "print(f'test_acc: {test_acc}')"
   ]
  },
  {
   "cell_type": "markdown",
   "metadata": {
    "id": "6aN_fuD9qSAu"
   },
   "source": [
    "A *accuracy* do conjunto de teste é 98%, um pouco inferior à *accuracy* do cojunto de treinamento.\n",
    "\n",
    "Esta diferença entre *accuracy* de treinamento e teste é um exemplo do conhecido **overfitting**: o fato que modelos de machine learning tendem a ter uma perfomance inferior em novos dados em relação aos dados de treinamento.\n",
    "\n",
    "Agora que nosso modelo foi treinado e avaliado, vamos selecionar apenas uma imagem do conjunto de teste e verificar se ele é capaz de fazer a previsão correta."
   ]
  },
  {
   "cell_type": "code",
   "execution_count": 21,
   "metadata": {
    "colab": {
     "base_uri": "https://localhost:8080/",
     "height": 248
    },
    "id": "3p55P6351fal",
    "outputId": "631ad926-fcde-4a30-a6fd-19cbfc3cb213"
   },
   "outputs": [
    {
     "data": {
      "image/png": "[encoded data removed]",
      "text/plain": [
       "<Figure size 432x288 with 1 Axes>"
      ]
     },
     "metadata": {
      "needs_background": "light"
     },
     "output_type": "display_data"
    }
   ],
   "source": [
    "number = test_images[50]\n",
    "plt.imshow(number.reshape(28,28),cmap='binary');\n",
    "plt.axis('off');"
   ]
  },
  {
   "cell_type": "markdown",
   "metadata": {
    "id": "d2B1EaNrrWu5"
   },
   "source": [
    "Neste caso selecionamos o número **6**, e de fato, utilizando o método **predict()**, vemos que nosso modelo foi capaz de fazer a previsão correta."
   ]
  },
  {
   "cell_type": "code",
   "execution_count": 22,
   "metadata": {
    "colab": {
     "base_uri": "https://localhost:8080/"
    },
    "id": "lZ_J2hvO1hM1",
    "outputId": "77e78abd-7c4a-49b6-e18b-2a52c4a5b880"
   },
   "outputs": [
    {
     "data": {
      "text/plain": [
       "6"
      ]
     },
     "execution_count": 22,
     "metadata": {},
     "output_type": "execute_result"
    }
   ],
   "source": [
    "network.predict(number.reshape(1,28*28)).argmax(axis=1)[0]"
   ]
  }
 ],
 "metadata": {
  "colab": {
   "collapsed_sections": [],
   "name": "MulticlassClassification.ipynb",
   "provenance": []
  },
  "kernelspec": {
   "display_name": "Python 3",
   "language": "python",
   "name": "python3"
  },
  "language_info": {
   "codemirror_mode": {
    "name": "ipython",
    "version": 3
   },
   "file_extension": ".py",
   "mimetype": "text/x-python",
   "name": "python",
   "nbconvert_exporter": "python",
   "pygments_lexer": "ipython3",
   "version": "3.7.7"
  }
 },
 "nbformat": 4,
 "nbformat_minor": 4
}
