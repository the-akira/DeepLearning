{
  "nbformat": 4,
  "nbformat_minor": 0,
  "metadata": {
    "colab": {
      "name": "BinaryClassification.ipynb",
      "provenance": [],
      "collapsed_sections": []
    },
    "kernelspec": {
      "name": "python3",
      "display_name": "Python 3"
    },
    "accelerator": "GPU"
  },
  "cells": [
    {
      "cell_type": "markdown",
      "metadata": {
        "id": "1eEVM2wTWLoQ"
      },
      "source": [
        "# Classificação Binária\n",
        "\n",
        "## Classificando Críticas de Filmes\n",
        "\n",
        "A classificação de duas classes, também conhecida como **classificação binária** é possivelmente o problema de Machine Learning mais aplicado e comum.\n",
        "\n",
        "Neste exemplo vamos classificar críticas de filmes como positiva ou negativa baseado no conteúdo de texto das críticas.\n",
        "\n",
        "Iniciaremos importando as bibliotecas necessárias para o projeto"
      ]
    },
    {
      "cell_type": "code",
      "metadata": {
        "id": "Li9e6njUuydJ"
      },
      "source": [
        "from tensorflow.keras.datasets import imdb\n",
        "from tensorflow.keras.models import Sequential\n",
        "from tensorflow.keras.layers import Dense\n",
        "from tensorflow.keras.optimizers import RMSprop\n",
        "import matplotlib.pyplot as plt\n",
        "import pandas as pd\n",
        "import numpy as np"
      ],
      "execution_count": 2,
      "outputs": []
    },
    {
      "cell_type": "markdown",
      "metadata": {
        "id": "rBRwMgiEX0UX"
      },
      "source": [
        "Trabalharemos com o conjunto de dados [IMDB](https://www.kaggle.com/lakshmi25npathi/imdb-dataset-of-50k-movie-reviews): Um conjunto de 50.000 críticas altamente polarizadas da Internet Movie Database. Eles estão divididos em 25.000 críticas para treinamento e 25.000 para teste, cada um consistindo de 50% críticas negativas e 50% positivas.\n",
        "\n",
        "Assim como o conjunto de dados MNIST, o conjunto de dados IMDB vem embutido na biblioteca Keras e já está pré-processado: as críticas (sequências de palavras) foram transformadas em sequências de números inteiros, onde cada inteiro se refere a uma específica palavra em um dicionário.\n",
        "\n",
        "O código a seguir irá carregar o conjunto de dados"
      ]
    },
    {
      "cell_type": "code",
      "metadata": {
        "id": "ulVhwhhau5W4"
      },
      "source": [
        "(train_data, train_labels), (test_data, test_labels) = imdb.load_data(num_words=10000);"
      ],
      "execution_count": 23,
      "outputs": []
    },
    {
      "cell_type": "markdown",
      "metadata": {
        "id": "dGDVuX49anGV"
      },
      "source": [
        "O argumento **num_words=10000** indica que iremos manter apenas as 10.000 palavras mais frequentes que ocorrem nos dados de treinamento. Palavras raras serão descartadas, o que nos permitirá trabalhar com dados vetoriais de tamanho gerenciável.\n",
        "\n",
        "As variáveis **train_data** e **test_data** são listas de críticas, cada crítica é uma lista de índices de palavras (codificando assim uma sequência de palavras).\n",
        "\n",
        "**train_labels** e **test_labels** são listas de 0's e 1's, em que 0 significa **negativo** e 1 **positivo**\n",
        "\n",
        "Vamos então imprimir os dados para adquirir uma intuição a respeito da estrutura deles"
      ]
    },
    {
      "cell_type": "code",
      "metadata": {
        "id": "5nEGIwpOvV4B",
        "outputId": "4ea306b2-f984-45bf-e9c1-19e030fa27e7",
        "colab": {
          "base_uri": "https://localhost:8080/"
        }
      },
      "source": [
        "print(train_data[0])"
      ],
      "execution_count": 4,
      "outputs": [
        {
          "output_type": "stream",
          "text": [
            "[1, 14, 22, 16, 43, 530, 973, 1622, 1385, 65, 458, 4468, 66, 3941, 4, 173, 36, 256, 5, 25, 100, 43, 838, 112, 50, 670, 2, 9, 35, 480, 284, 5, 150, 4, 172, 112, 167, 2, 336, 385, 39, 4, 172, 4536, 1111, 17, 546, 38, 13, 447, 4, 192, 50, 16, 6, 147, 2025, 19, 14, 22, 4, 1920, 4613, 469, 4, 22, 71, 87, 12, 16, 43, 530, 38, 76, 15, 13, 1247, 4, 22, 17, 515, 17, 12, 16, 626, 18, 2, 5, 62, 386, 12, 8, 316, 8, 106, 5, 4, 2223, 5244, 16, 480, 66, 3785, 33, 4, 130, 12, 16, 38, 619, 5, 25, 124, 51, 36, 135, 48, 25, 1415, 33, 6, 22, 12, 215, 28, 77, 52, 5, 14, 407, 16, 82, 2, 8, 4, 107, 117, 5952, 15, 256, 4, 2, 7, 3766, 5, 723, 36, 71, 43, 530, 476, 26, 400, 317, 46, 7, 4, 2, 1029, 13, 104, 88, 4, 381, 15, 297, 98, 32, 2071, 56, 26, 141, 6, 194, 7486, 18, 4, 226, 22, 21, 134, 476, 26, 480, 5, 144, 30, 5535, 18, 51, 36, 28, 224, 92, 25, 104, 4, 226, 65, 16, 38, 1334, 88, 12, 16, 283, 5, 16, 4472, 113, 103, 32, 15, 16, 5345, 19, 178, 32]\n"
          ],
          "name": "stdout"
        }
      ]
    },
    {
      "cell_type": "code",
      "metadata": {
        "id": "IXwUmqG9vvrG",
        "outputId": "02e80302-278e-47d5-e8a2-6bdfa2176bd2",
        "colab": {
          "base_uri": "https://localhost:8080/"
        }
      },
      "source": [
        "print(train_labels[0])"
      ],
      "execution_count": 5,
      "outputs": [
        {
          "output_type": "stream",
          "text": [
            "1\n"
          ],
          "name": "stdout"
        }
      ]
    },
    {
      "cell_type": "markdown",
      "metadata": {
        "id": "RClR0wohbuiR"
      },
      "source": [
        "Pelo fato de estarmos-nos restringindo às 10.000 mais frequentes palavras, nenhum índice de palavra irá exceder 10.000"
      ]
    },
    {
      "cell_type": "code",
      "metadata": {
        "id": "w10PK41Cv0fM",
        "outputId": "2a855c02-386f-428b-a05b-36c99b77a8ff",
        "colab": {
          "base_uri": "https://localhost:8080/"
        }
      },
      "source": [
        "max([max(sequence) for sequence in train_data])"
      ],
      "execution_count": 6,
      "outputs": [
        {
          "output_type": "execute_result",
          "data": {
            "text/plain": [
              "9999"
            ]
          },
          "metadata": {
            "tags": []
          },
          "execution_count": 6
        }
      ]
    },
    {
      "cell_type": "markdown",
      "metadata": {
        "id": "0YT3Ej_veRvv"
      },
      "source": [
        "Caso queíramos decodificar uma dessas críticas para o inglês, podemos usar o seguinte script"
      ]
    },
    {
      "cell_type": "code",
      "metadata": {
        "id": "dG5XgEMUv2EX",
        "outputId": "429be8f8-8044-4e23-e464-671631beec31",
        "colab": {
          "base_uri": "https://localhost:8080/"
        }
      },
      "source": [
        "word_index = imdb.get_word_index();\n",
        "reverse_word_index = dict([(value, key) for (key, value) in word_index.items()])\n",
        "decoded_review = ' '.join([reverse_word_index.get(i - 3, '-') for i in train_data[0]])\n",
        "print(decoded_review)"
      ],
      "execution_count": 24,
      "outputs": [
        {
          "output_type": "stream",
          "text": [
            "- this film was just brilliant casting location scenery story direction everyone's really suited the part they played and you could just imagine being there robert - is an amazing actor and now the same being director - father came from the same scottish island as myself so i loved the fact there was a real connection with this film the witty remarks throughout the film were great it was just brilliant so much that i bought the film as soon as it was released for - and would recommend it to everyone to watch and the fly fishing was amazing really cried at the end it was so sad and you know what they say if you cry at a film it must have been good and this definitely was also - to the two little boy's that played the - of norman and paul they were just brilliant children are often left out of the - list i think because the stars that play them all grown up are such a big profile for the whole film but these children are amazing and should be praised for what they have done don't you think the whole story was so lovely because it was true and was someone's life after all that was shared with us all\n"
          ],
          "name": "stdout"
        }
      ]
    },
    {
      "cell_type": "markdown",
      "metadata": {
        "id": "1GvNRU_Tec2a"
      },
      "source": [
        "## Preparando os dados\n",
        "\n",
        "Não podemos alimentar uma lista de inteiros em uma rede neural! \n",
        "\n",
        "Devemos transformar essas listas em tensors, para isso, vamos utilizar [One-Hot Enconding](https://en.wikipedia.org/wiki/One-hot), que irá codificar as nossas listas e transformá-las em vetores de 0's e 1's. Isso significaria, por exemplo, transformar a sequência [1,3] em um vetor 10.000-dimensional que será preenchido basicamente por 0's, exceto os índices 1 e 3, que serão 1. \n",
        "\n",
        "Então poderemos usar como primeira layer de nossa rede neural uma **Dense** layer capaz de lidar com dados vetoriais *floating-point*.\n",
        "\n",
        "A função a seguir será responsável por vetorizar os dados"
      ]
    },
    {
      "cell_type": "code",
      "metadata": {
        "id": "TMwt3vb1v4LS"
      },
      "source": [
        "def vectorize_sequences(sequences, dimension=10000):\n",
        "    results = np.zeros((len(sequences), dimension))\n",
        "    for i, sequence in enumerate(sequences):\n",
        "        results[i, sequence] = 1.0\n",
        "    return results"
      ],
      "execution_count": 8,
      "outputs": []
    },
    {
      "cell_type": "markdown",
      "metadata": {
        "id": "Hewx6JNegOzi"
      },
      "source": [
        "Uma vez criada a função, vamos vetorizar os dados de treinamento e teste"
      ]
    },
    {
      "cell_type": "code",
      "metadata": {
        "id": "ZbVpgFYGv7aS"
      },
      "source": [
        "x_train = vectorize_sequences(train_data)\n",
        "x_test = vectorize_sequences(test_data)"
      ],
      "execution_count": 9,
      "outputs": []
    },
    {
      "cell_type": "markdown",
      "metadata": {
        "id": "2N_lKjaNgV7v"
      },
      "source": [
        "Nossos dados ficarão então da seguinte forma"
      ]
    },
    {
      "cell_type": "code",
      "metadata": {
        "id": "A3iHX8lZv9C7",
        "outputId": "5b7381bd-aca0-4ae0-bf98-bc23e3ce12ad",
        "colab": {
          "base_uri": "https://localhost:8080/"
        }
      },
      "source": [
        "x_train[0]"
      ],
      "execution_count": 10,
      "outputs": [
        {
          "output_type": "execute_result",
          "data": {
            "text/plain": [
              "array([0., 1., 1., ..., 0., 0., 0.])"
            ]
          },
          "metadata": {
            "tags": []
          },
          "execution_count": 10
        }
      ]
    },
    {
      "cell_type": "markdown",
      "metadata": {
        "id": "R8CjsstlgeJl"
      },
      "source": [
        "Devemos também vetorizar os labels, que nesse caso é muito simples, utilizaremos o método **asarray()** da biblioteca Numpy e transformaremos os dados em **float32** e então os dados estarão prontos para serem consumidos pela rede neural"
      ]
    },
    {
      "cell_type": "code",
      "metadata": {
        "id": "tizMUbXMwFJb"
      },
      "source": [
        "y_train = np.asarray(train_labels).astype('float32')\n",
        "y_test = np.asarray(test_labels).astype('float32')"
      ],
      "execution_count": 11,
      "outputs": []
    },
    {
      "cell_type": "markdown",
      "metadata": {
        "id": "AyWBIIFC1QUb"
      },
      "source": [
        "## Construindo a Rede Neural\n",
        "\n",
        "Os dados de *input* são vetores e os *labels* são escalares (1's e 0's).\n",
        "\n",
        "Um tipo de rede neural que tem uma boa perfomance em tal problema é uma simples pilha de *fully connected* (Dense) layers com funções de ativação [ReLU](https://machinelearningmastery.com/rectified-linear-activation-function-for-deep-learning-neural-networks/).\n",
        "\n",
        "O argumento passado para cada Dense layer (**16**) é o número de *hidden units* da layer. Uma *hidden unit* é uma dimensão no espaço de representação da layer.\n",
        "\n",
        "Possuindo 16 hidden units significa que a matriz de weights (**W**) terá uma forma (dimensão_inputs,16): o produto escalar com **W** irá projetar os dados de *input* em um espaço de representação de 16-dimensões (e então será adicionado o vetor de bias **b** e aplicada a operação ReLU).\n",
        "\n",
        "Podemos interpretar a dimensionalidade de nosso espaço de representação como \"O quanto de liberdade que você está permitindo que a rede neural tenha ao aprender representações internas.\" Possuir mais *hidden units* (assim, um espaço de representação de mais dimensões) permite a rede neural aprender representações mais complexas, porém torna ela mais custosa em termos computacionais e pode levá-la a aprender padrões indesejados (padrões que irão aperfeiçoar a perfomance nos dados de treinamento, porém não nos dados de teste).\n",
        "\n",
        "Existem duas principais decisões de arquitetura a serem feitas sobre essa pilha de Dense layers:\n",
        "\n",
        "- Quantas layers utilizar\n",
        "- Quantas *hidden units* usar para cada layer\n",
        "\n",
        "Nas layers intermediárias iremos usar ReLU como a função de ativação, e a última layer usaremos a função sigmoid como ativação, para assim termos uma probabilidade como output (uma pontuação entre 0 e 1, indicando qual a probabilidade da amostra ter o target \"1\", em outras palavras, qual a probabilidade da crítica ser positiva).\n",
        "\n",
        "Vamos então implementar a arquitetura de nosso modelo (rede neural):"
      ]
    },
    {
      "cell_type": "code",
      "metadata": {
        "id": "ULtAd4uhwHah"
      },
      "source": [
        "model = Sequential()\n",
        "model.add(Dense(16, activation='relu', input_shape=(10000,)))\n",
        "model.add(Dense(16, activation='relu'))\n",
        "model.add(Dense(1, activation='sigmoid'))"
      ],
      "execution_count": 12,
      "outputs": []
    },
    {
      "cell_type": "markdown",
      "metadata": {
        "id": "O3lxSSJU48ys"
      },
      "source": [
        "Finalmente, precisamos escolher uma função Loss e um *optimizer*. \n",
        "\n",
        "Uma vez que estamos lidando com um problema de classificação binária e o output da rede neural é uma probabilidade (lembre que terminamos com uma layer de unidade única com ativação sigmoid), é melhor usar a função loss \n",
        "*binary_crossentropy*. Crossentropy é uma quantidade do campo da Teoria da Informação que mede a distância entre as distribuições de probabilidade ou, neste caso, entre a distribuição da verdade fundamental e as previsões.\n",
        "\n",
        "Vamos então configurar o modelo com o optimizer **rmsprop** e a função loss binary_crossentropy. Observe que também estamos monitorando a *accuracy*\n",
        "durante o treinamento."
      ]
    },
    {
      "cell_type": "code",
      "metadata": {
        "id": "LX5Ct8hbwdO_"
      },
      "source": [
        "model.compile(optimizer=RMSprop(lr=0.001),loss='binary_crossentropy',metrics=['acc'])"
      ],
      "execution_count": 13,
      "outputs": []
    },
    {
      "cell_type": "markdown",
      "metadata": {
        "id": "Z69Tdxo06Opv"
      },
      "source": [
        "## Validando a Abordagem\n",
        "\n",
        "Com o objetivo de monitorar durante o treinamento a *accuracy* do modelo em relação aos dados que ele nunca viu antes, vamos criar um conjunto de validação separando 10.000 amostras dos dados de treinamento originais."
      ]
    },
    {
      "cell_type": "code",
      "metadata": {
        "id": "CRSLby3dwsUU"
      },
      "source": [
        "x_val = x_train[:10000]\n",
        "partial_x_train = x_train[10000:]"
      ],
      "execution_count": 14,
      "outputs": []
    },
    {
      "cell_type": "code",
      "metadata": {
        "id": "0HBh9KYpw5ur"
      },
      "source": [
        "y_val = y_train[:10000]\n",
        "partial_y_train = y_train[10000:]"
      ],
      "execution_count": 15,
      "outputs": []
    },
    {
      "cell_type": "markdown",
      "metadata": {
        "id": "fuPA5Apq6_ZL"
      },
      "source": [
        "Treinaremos então o modelo por 20 *epochs* (20 iterações em todas as amostras nos tensors **x_train** e **y_train**), em *mini-batches* de 512 amostras. Ao mesmo tempo, monitoraremos a Loss e a Accuracy nas 10.000 amostras que separamos. Fazemos isso passando os dados de validação como o argumento de **validation_data**."
      ]
    },
    {
      "cell_type": "code",
      "metadata": {
        "id": "HqSvxv7ow7XC",
        "outputId": "dd4958a4-8e42-4a20-939e-699d388cba87",
        "colab": {
          "base_uri": "https://localhost:8080/"
        }
      },
      "source": [
        "history = model.fit(partial_x_train,partial_y_train,epochs=20,batch_size=512,validation_data=(x_val, y_val))"
      ],
      "execution_count": 16,
      "outputs": [
        {
          "output_type": "stream",
          "text": [
            "Epoch 1/20\n",
            "30/30 [==============================] - 1s 28ms/step - loss: 0.5261 - acc: 0.7743 - val_loss: 0.4007 - val_acc: 0.8643\n",
            "Epoch 2/20\n",
            "30/30 [==============================] - 1s 18ms/step - loss: 0.3129 - acc: 0.9007 - val_loss: 0.3072 - val_acc: 0.8862\n",
            "Epoch 3/20\n",
            "30/30 [==============================] - 1s 19ms/step - loss: 0.2290 - acc: 0.9267 - val_loss: 0.2796 - val_acc: 0.8910\n",
            "Epoch 4/20\n",
            "30/30 [==============================] - 1s 18ms/step - loss: 0.1798 - acc: 0.9431 - val_loss: 0.2746 - val_acc: 0.8892\n",
            "Epoch 5/20\n",
            "30/30 [==============================] - 1s 18ms/step - loss: 0.1453 - acc: 0.9543 - val_loss: 0.2927 - val_acc: 0.8836\n",
            "Epoch 6/20\n",
            "30/30 [==============================] - 1s 18ms/step - loss: 0.1214 - acc: 0.9616 - val_loss: 0.2942 - val_acc: 0.8835\n",
            "Epoch 7/20\n",
            "30/30 [==============================] - 1s 18ms/step - loss: 0.1019 - acc: 0.9691 - val_loss: 0.3350 - val_acc: 0.8765\n",
            "Epoch 8/20\n",
            "30/30 [==============================] - 1s 18ms/step - loss: 0.0836 - acc: 0.9769 - val_loss: 0.3413 - val_acc: 0.8789\n",
            "Epoch 9/20\n",
            "30/30 [==============================] - 1s 18ms/step - loss: 0.0716 - acc: 0.9805 - val_loss: 0.3535 - val_acc: 0.8785\n",
            "Epoch 10/20\n",
            "30/30 [==============================] - 1s 18ms/step - loss: 0.0583 - acc: 0.9854 - val_loss: 0.3775 - val_acc: 0.8787\n",
            "Epoch 11/20\n",
            "30/30 [==============================] - 1s 18ms/step - loss: 0.0478 - acc: 0.9890 - val_loss: 0.4031 - val_acc: 0.8754\n",
            "Epoch 12/20\n",
            "30/30 [==============================] - 1s 18ms/step - loss: 0.0421 - acc: 0.9903 - val_loss: 0.4306 - val_acc: 0.8777\n",
            "Epoch 13/20\n",
            "30/30 [==============================] - 1s 18ms/step - loss: 0.0319 - acc: 0.9936 - val_loss: 0.4652 - val_acc: 0.8738\n",
            "Epoch 14/20\n",
            "30/30 [==============================] - 1s 18ms/step - loss: 0.0272 - acc: 0.9949 - val_loss: 0.4985 - val_acc: 0.8690\n",
            "Epoch 15/20\n",
            "30/30 [==============================] - 1s 18ms/step - loss: 0.0216 - acc: 0.9961 - val_loss: 0.5274 - val_acc: 0.8684\n",
            "Epoch 16/20\n",
            "30/30 [==============================] - 1s 18ms/step - loss: 0.0172 - acc: 0.9975 - val_loss: 0.5609 - val_acc: 0.8674\n",
            "Epoch 17/20\n",
            "30/30 [==============================] - 1s 18ms/step - loss: 0.0135 - acc: 0.9986 - val_loss: 0.5966 - val_acc: 0.8659\n",
            "Epoch 18/20\n",
            "30/30 [==============================] - 1s 18ms/step - loss: 0.0111 - acc: 0.9991 - val_loss: 0.6350 - val_acc: 0.8661\n",
            "Epoch 19/20\n",
            "30/30 [==============================] - 1s 18ms/step - loss: 0.0101 - acc: 0.9987 - val_loss: 0.6643 - val_acc: 0.8653\n",
            "Epoch 20/20\n",
            "30/30 [==============================] - 1s 18ms/step - loss: 0.0090 - acc: 0.9990 - val_loss: 0.7056 - val_acc: 0.8642\n"
          ],
          "name": "stdout"
        }
      ]
    },
    {
      "cell_type": "markdown",
      "metadata": {
        "id": "d9qvqw8g7kS_"
      },
      "source": [
        "Observe que a chamada para **model.fit()** retorna um objeto **History**. Este objeto possui um membro history, que é um dicionário contendo dados sobre tudo o que aconteceu durante o treinamento, vamos utilizar esses dados para construir um DataFrame com o auxílio da biblioteca Pandas."
      ]
    },
    {
      "cell_type": "code",
      "metadata": {
        "id": "TC2lR8qOxS2O",
        "outputId": "22ec59a8-1552-42b2-f6e4-1c9ae16c03a4",
        "colab": {
          "base_uri": "https://localhost:8080/",
          "height": 669
        }
      },
      "source": [
        "metrics = pd.DataFrame(model.history.history)\n",
        "metrics"
      ],
      "execution_count": 17,
      "outputs": [
        {
          "output_type": "execute_result",
          "data": {
            "text/html": [
              "<div>\n",
              "<style scoped>\n",
              "    .dataframe tbody tr th:only-of-type {\n",
              "        vertical-align: middle;\n",
              "    }\n",
              "\n",
              "    .dataframe tbody tr th {\n",
              "        vertical-align: top;\n",
              "    }\n",
              "\n",
              "    .dataframe thead th {\n",
              "        text-align: right;\n",
              "    }\n",
              "</style>\n",
              "<table border=\"1\" class=\"dataframe\">\n",
              "  <thead>\n",
              "    <tr style=\"text-align: right;\">\n",
              "      <th></th>\n",
              "      <th>loss</th>\n",
              "      <th>acc</th>\n",
              "      <th>val_loss</th>\n",
              "      <th>val_acc</th>\n",
              "    </tr>\n",
              "  </thead>\n",
              "  <tbody>\n",
              "    <tr>\n",
              "      <th>0</th>\n",
              "      <td>0.526059</td>\n",
              "      <td>0.774333</td>\n",
              "      <td>0.400726</td>\n",
              "      <td>0.8643</td>\n",
              "    </tr>\n",
              "    <tr>\n",
              "      <th>1</th>\n",
              "      <td>0.312950</td>\n",
              "      <td>0.900733</td>\n",
              "      <td>0.307218</td>\n",
              "      <td>0.8862</td>\n",
              "    </tr>\n",
              "    <tr>\n",
              "      <th>2</th>\n",
              "      <td>0.228973</td>\n",
              "      <td>0.926667</td>\n",
              "      <td>0.279631</td>\n",
              "      <td>0.8910</td>\n",
              "    </tr>\n",
              "    <tr>\n",
              "      <th>3</th>\n",
              "      <td>0.179773</td>\n",
              "      <td>0.943067</td>\n",
              "      <td>0.274615</td>\n",
              "      <td>0.8892</td>\n",
              "    </tr>\n",
              "    <tr>\n",
              "      <th>4</th>\n",
              "      <td>0.145326</td>\n",
              "      <td>0.954267</td>\n",
              "      <td>0.292734</td>\n",
              "      <td>0.8836</td>\n",
              "    </tr>\n",
              "    <tr>\n",
              "      <th>5</th>\n",
              "      <td>0.121445</td>\n",
              "      <td>0.961600</td>\n",
              "      <td>0.294161</td>\n",
              "      <td>0.8835</td>\n",
              "    </tr>\n",
              "    <tr>\n",
              "      <th>6</th>\n",
              "      <td>0.101892</td>\n",
              "      <td>0.969133</td>\n",
              "      <td>0.335004</td>\n",
              "      <td>0.8765</td>\n",
              "    </tr>\n",
              "    <tr>\n",
              "      <th>7</th>\n",
              "      <td>0.083600</td>\n",
              "      <td>0.976867</td>\n",
              "      <td>0.341340</td>\n",
              "      <td>0.8789</td>\n",
              "    </tr>\n",
              "    <tr>\n",
              "      <th>8</th>\n",
              "      <td>0.071611</td>\n",
              "      <td>0.980533</td>\n",
              "      <td>0.353487</td>\n",
              "      <td>0.8785</td>\n",
              "    </tr>\n",
              "    <tr>\n",
              "      <th>9</th>\n",
              "      <td>0.058315</td>\n",
              "      <td>0.985400</td>\n",
              "      <td>0.377455</td>\n",
              "      <td>0.8787</td>\n",
              "    </tr>\n",
              "    <tr>\n",
              "      <th>10</th>\n",
              "      <td>0.047789</td>\n",
              "      <td>0.989000</td>\n",
              "      <td>0.403126</td>\n",
              "      <td>0.8754</td>\n",
              "    </tr>\n",
              "    <tr>\n",
              "      <th>11</th>\n",
              "      <td>0.042075</td>\n",
              "      <td>0.990267</td>\n",
              "      <td>0.430586</td>\n",
              "      <td>0.8777</td>\n",
              "    </tr>\n",
              "    <tr>\n",
              "      <th>12</th>\n",
              "      <td>0.031870</td>\n",
              "      <td>0.993600</td>\n",
              "      <td>0.465242</td>\n",
              "      <td>0.8738</td>\n",
              "    </tr>\n",
              "    <tr>\n",
              "      <th>13</th>\n",
              "      <td>0.027241</td>\n",
              "      <td>0.994867</td>\n",
              "      <td>0.498486</td>\n",
              "      <td>0.8690</td>\n",
              "    </tr>\n",
              "    <tr>\n",
              "      <th>14</th>\n",
              "      <td>0.021556</td>\n",
              "      <td>0.996133</td>\n",
              "      <td>0.527430</td>\n",
              "      <td>0.8684</td>\n",
              "    </tr>\n",
              "    <tr>\n",
              "      <th>15</th>\n",
              "      <td>0.017152</td>\n",
              "      <td>0.997533</td>\n",
              "      <td>0.560945</td>\n",
              "      <td>0.8674</td>\n",
              "    </tr>\n",
              "    <tr>\n",
              "      <th>16</th>\n",
              "      <td>0.013477</td>\n",
              "      <td>0.998600</td>\n",
              "      <td>0.596572</td>\n",
              "      <td>0.8659</td>\n",
              "    </tr>\n",
              "    <tr>\n",
              "      <th>17</th>\n",
              "      <td>0.011103</td>\n",
              "      <td>0.999067</td>\n",
              "      <td>0.634990</td>\n",
              "      <td>0.8661</td>\n",
              "    </tr>\n",
              "    <tr>\n",
              "      <th>18</th>\n",
              "      <td>0.010064</td>\n",
              "      <td>0.998667</td>\n",
              "      <td>0.664295</td>\n",
              "      <td>0.8653</td>\n",
              "    </tr>\n",
              "    <tr>\n",
              "      <th>19</th>\n",
              "      <td>0.008975</td>\n",
              "      <td>0.999000</td>\n",
              "      <td>0.705614</td>\n",
              "      <td>0.8642</td>\n",
              "    </tr>\n",
              "  </tbody>\n",
              "</table>\n",
              "</div>"
            ],
            "text/plain": [
              "        loss       acc  val_loss  val_acc\n",
              "0   0.526059  0.774333  0.400726   0.8643\n",
              "1   0.312950  0.900733  0.307218   0.8862\n",
              "2   0.228973  0.926667  0.279631   0.8910\n",
              "3   0.179773  0.943067  0.274615   0.8892\n",
              "4   0.145326  0.954267  0.292734   0.8836\n",
              "5   0.121445  0.961600  0.294161   0.8835\n",
              "6   0.101892  0.969133  0.335004   0.8765\n",
              "7   0.083600  0.976867  0.341340   0.8789\n",
              "8   0.071611  0.980533  0.353487   0.8785\n",
              "9   0.058315  0.985400  0.377455   0.8787\n",
              "10  0.047789  0.989000  0.403126   0.8754\n",
              "11  0.042075  0.990267  0.430586   0.8777\n",
              "12  0.031870  0.993600  0.465242   0.8738\n",
              "13  0.027241  0.994867  0.498486   0.8690\n",
              "14  0.021556  0.996133  0.527430   0.8684\n",
              "15  0.017152  0.997533  0.560945   0.8674\n",
              "16  0.013477  0.998600  0.596572   0.8659\n",
              "17  0.011103  0.999067  0.634990   0.8661\n",
              "18  0.010064  0.998667  0.664295   0.8653\n",
              "19  0.008975  0.999000  0.705614   0.8642"
            ]
          },
          "metadata": {
            "tags": []
          },
          "execution_count": 17
        }
      ]
    },
    {
      "cell_type": "markdown",
      "metadata": {
        "id": "HgAE6f3v78zy"
      },
      "source": [
        "O dicionário contém quatro entradas: uma por métrica que estava sendo monitorada durante treinamento e durante a validação. \n",
        "\n",
        "Vamos agora usar Matplotlib para construir um gráfico da Loss de treinamento e validação, assim como a Accuracy de treinamento e validação."
      ]
    },
    {
      "cell_type": "code",
      "metadata": {
        "id": "wG-Ot4PqxgY1",
        "outputId": "4f1ecc21-3659-4478-9817-d6ee28cbbbe4",
        "colab": {
          "base_uri": "https://localhost:8080/",
          "height": 295
        }
      },
      "source": [
        "metrics[['loss','val_loss']].plot()\n",
        "plt.title('Training and validation loss')\n",
        "plt.xlabel('Epochs')\n",
        "plt.ylabel('Loss')\n",
        "plt.show()"
      ],
      "execution_count": 18,
      "outputs": [
        {
          "output_type": "display_data",
          "data": {
            "image/png": "[encoded data removed]",
            "text/plain": [
              "<Figure size 432x288 with 1 Axes>"
            ]
          },
          "metadata": {
            "tags": [],
            "needs_background": "light"
          }
        }
      ]
    },
    {
      "cell_type": "code",
      "metadata": {
        "id": "MQvGvJJ3zEGx",
        "outputId": "1f1dcfcd-784a-4293-a34f-51552bb1b717",
        "colab": {
          "base_uri": "https://localhost:8080/",
          "height": 295
        }
      },
      "source": [
        "metrics[['acc','val_acc']].plot()\n",
        "plt.title('Training and validation accuracy')\n",
        "plt.xlabel('Epochs')\n",
        "plt.ylabel('Loss')\n",
        "plt.show()"
      ],
      "execution_count": 19,
      "outputs": [
        {
          "output_type": "display_data",
          "data": {
            "image/png": "[encoded data removed]",
            "text/plain": [
              "<Figure size 432x288 with 1 Axes>"
            ]
          },
          "metadata": {
            "tags": [],
            "needs_background": "light"
          }
        }
      ]
    },
    {
      "cell_type": "markdown",
      "metadata": {
        "id": "iaG9YFzc8lDl"
      },
      "source": [
        "Como podemos observar, a Loss de treinamento diminui a cada **epoch**, e a Accuracy do treinamento aumenta a cada **epoch**. Isso é o que se espera ao executar a otimização *gradient descent* - a quantidade que estamos tentando minimizar deve ser menor com cada iteração. Porém esse não é o caso da Loss de validação e Accuracy: eles parecem atingir um pico na quarta epoch. Este é um exemplo de **overfitting**: um modelo com melhor desempenho nos dados de treinamento não é necessariamente um modelo que funcionará melhor em dados que nunca viu antes, após a segunda epoch, estamos superotimizando os dados de treinamento e terminamos com representações de aprendizagem que são específicas para os dados de treinamento e não generalizam para dados fora do conjunto de treinamento.\n",
        "\n",
        "Nesse caso, para evitar o overfitting, podemos interromper o treinamento após quatro epochs.\n",
        "\n",
        "Vamos então treinar uma nova rede do zero por quatro epochs e, em seguida, avaliá-la nos dados de teste."
      ]
    },
    {
      "cell_type": "code",
      "metadata": {
        "id": "gpQLGKqCzJFf",
        "outputId": "116261b7-96fb-473b-b775-5fe1aba3ef11",
        "colab": {
          "base_uri": "https://localhost:8080/"
        }
      },
      "source": [
        "model = Sequential()\n",
        "model.add(Dense(16, activation='relu', input_shape=(10000,)))\n",
        "model.add(Dense(16, activation='relu'))\n",
        "model.add(Dense(1, activation='sigmoid'))\n",
        "model.compile(optimizer='rmsprop',loss='binary_crossentropy',metrics=['accuracy'])\n",
        "model.fit(x_train, y_train, epochs=4, batch_size=512)\n",
        "results = model.evaluate(x_test, y_test)"
      ],
      "execution_count": 20,
      "outputs": [
        {
          "output_type": "stream",
          "text": [
            "Epoch 1/4\n",
            "49/49 [==============================] - 1s 11ms/step - loss: 0.4533 - accuracy: 0.8250\n",
            "Epoch 2/4\n",
            "49/49 [==============================] - 1s 12ms/step - loss: 0.2595 - accuracy: 0.9099\n",
            "Epoch 3/4\n",
            "49/49 [==============================] - 1s 12ms/step - loss: 0.2004 - accuracy: 0.9292\n",
            "Epoch 4/4\n",
            "49/49 [==============================] - 1s 11ms/step - loss: 0.1668 - accuracy: 0.9422\n",
            "782/782 [==============================] - 2s 2ms/step - loss: 0.3088 - accuracy: 0.8791\n"
          ],
          "name": "stdout"
        }
      ]
    },
    {
      "cell_type": "markdown",
      "metadata": {
        "id": "rNdFk9Sb_rS3"
      },
      "source": [
        "Os resultados finais que temos são os seguintes"
      ]
    },
    {
      "cell_type": "code",
      "metadata": {
        "id": "ti9zLPwN_XRf",
        "outputId": "31f1e187-7398-4bf4-b927-37890cf4a3a0",
        "colab": {
          "base_uri": "https://localhost:8080/"
        }
      },
      "source": [
        "print(results)"
      ],
      "execution_count": 21,
      "outputs": [
        {
          "output_type": "stream",
          "text": [
            "[0.3087579607963562, 0.8790799975395203]\n"
          ],
          "name": "stdout"
        }
      ]
    },
    {
      "cell_type": "markdown",
      "metadata": {
        "id": "Iv0XKz7z_zTZ"
      },
      "source": [
        "Nos levando a alcançar uma accuracy de 88%\n",
        "\n",
        "Uma vez que nossa rede neural está treinada, agora podemos utilizá-la para fazer previsões. \n",
        "\n",
        "Podemos gerar a probabilidade das críticas serem **positivos** usando o método de **predict()**"
      ]
    },
    {
      "cell_type": "code",
      "metadata": {
        "id": "Iey71lq2z9M3",
        "outputId": "b958c580-2789-4b35-8bc2-90b4a91cf012",
        "colab": {
          "base_uri": "https://localhost:8080/"
        }
      },
      "source": [
        "model.predict(x_test)"
      ],
      "execution_count": 22,
      "outputs": [
        {
          "output_type": "execute_result",
          "data": {
            "text/plain": [
              "array([[0.25012797],\n",
              "       [0.9999945 ],\n",
              "       [0.98629797],\n",
              "       ...,\n",
              "       [0.17432064],\n",
              "       [0.10161123],\n",
              "       [0.71477944]], dtype=float32)"
            ]
          },
          "metadata": {
            "tags": []
          },
          "execution_count": 22
        }
      ]
    }
  ]
}