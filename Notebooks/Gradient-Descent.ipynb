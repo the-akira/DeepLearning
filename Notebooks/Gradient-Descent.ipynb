{
 "cells": [
  {
   "cell_type": "markdown",
   "id": "8d92bf10",
   "metadata": {},
   "source": [
    "# Gradient Descent\n",
    "\n",
    "Em geral, todo algoritmo de **Machine Learning** é composto de três partes principais:\n",
    "\n",
    "1. Uma função Loss\n",
    "2. Critérios de otimização com base na função Loss\n",
    "3. Técnica de otimização: este processo alavanca os dados de treinamento para encontrar uma solução para os critérios de otimização (função Loss)\n",
    "\n",
    "Durante o treinamento, alteramos os parâmetros de nosso modelo de machine learning para tentar minimizar a função Loss. No entanto, surge a questão de como alteramos esses parâmetros. Além disso, por quanto devemos alterá-los durante o treinamento e quando. Para responder a todas essas perguntas, usamos otimizadores. Eles colocam todas as diferentes partes do algoritmo de machine learning juntas.\n",
    "\n",
    "O algoritmo **Gradient Decent** é uma técnica de otimização popular. Neste notebook, focamos nele, o avô de todas as técnicas de otimização e sua variação estocástica. Observe que essas técnicas não são algoritmos de machine learning, são solucionadores de problemas de minimização em que a função a minimizar possui gradiente na maioria dos pontos de seu domínio."
   ]
  },
  {
   "cell_type": "markdown",
   "id": "a5d74049",
   "metadata": {},
   "source": [
    "## Imports e Conjuntos de Dados\n",
    "\n",
    "Para este experimento, vamos usar as bibliotecas [Scikit-Learn](https://scikit-learn.org/), [Matplotlib](https://matplotlib.org/) e [NumPy](https://numpy.org/).\n",
    "\n",
    "O conjunto de dados que trabalharemos é gerado pelo Scikit-Learn, se trata de um problema de regressão aleatório para fins experimentais."
   ]
  },
  {
   "cell_type": "code",
   "execution_count": 390,
   "id": "5b195549",
   "metadata": {},
   "outputs": [],
   "source": [
    "from sklearn.metrics import mean_squared_error\n",
    "from sklearn.model_selection import train_test_split\n",
    "import matplotlib.pyplot as plt \n",
    "from sklearn import datasets\n",
    "import numpy as np\n",
    "\n",
    "X, y = datasets.make_regression(n_samples=300, n_features=1, noise=15)\n",
    "X_train, X_test, y_train, y_test = train_test_split(X, y, test_size=0.33)"
   ]
  },
  {
   "cell_type": "markdown",
   "id": "22027c7c",
   "metadata": {},
   "source": [
    "## Por que usamos Otimizadores?\n",
    "\n",
    "Observe que também usamos a [regressão linear simples](https://en.wikipedia.org/wiki/Simple_linear_regression) em todos os exemplos. \n",
    "\n",
    "Devido ao fato de explorarmos técnicas de otimização, escolhemos o algoritmo de machine learning mais fácil.  \n",
    "\n",
    "Como um lembrete rápido, a fórmula para regressão linear é assim:\n",
    "\n",
    "$ f(X) = w * X + b $\n",
    "\n",
    "Onde $w$ e $b$ são parâmetros do algoritmo de machine learning. O objetivo do processo de treinamento é definir os valores corretos para $w$ e $b$, para obtermos a **saída** desejada do modelo de machine learning. Isso significa que estamos tentando tornar o valor do nosso **vetor de erro** o menor possível, ou seja, encontrar um **mínimo global da função Loss**.\n",
    "\n",
    "Uma maneira de resolver esse problema é usar o cálculo. Poderíamos calcular derivadas e então usá-las para encontrar lugares onde é um extremo da função Loss. No entanto, a função Loss não é função de uma ou de algumas variáveis; é uma função de todos os parâmetros de um algoritmo de machine learning, portanto, esses cálculos se transformarão rapidamente em um monstro. É por isso que usamos esses otimizadores."
   ]
  },
  {
   "cell_type": "markdown",
   "id": "7aa8eea5",
   "metadata": {},
   "source": [
    "## Intuição do Gradient Descent\n",
    "\n",
    "Esta técnica é a técnica de otimização mais popular. É também uma base para outras técnicas. Existe uma analogia útil que descreve muito bem esse processo. Imagine que você tenha uma bola dentro de um vale arredondado, como na imagem abaixo. Se você deixar a bola rolar, ela irá de um lado a outro do vale, até ficar parada no fundo.\n",
    "\n",
    "![img](https://raw.githubusercontent.com/the-akira/DeepLearning/master/Imagens/GradientDescent.png)\n",
    "\n",
    "Essencialmente, podemos observar esse comportamento como se a bola estivesse otimizando sua posição da esquerda para a direita e, eventualmente, ela para na parte inferior, ou seja, o ponto mais baixo do vale. O fundo, neste caso, é o mínimo de nossa função Loss. Isso é o que o algoritmo Gradient Descent está fazendo. Ele começa de uma posição na qual, calculando as derivadas e as segundas derivadas da função Loss, obtém a informação sobre onde “a bola” deve rolar. Cada vez que calculamos as derivadas, obtemos informações sobre a inclinação do lado da função (ou seja, do vale) em sua posição atual.\n",
    "\n",
    "Quando a inclinação é negativa (para baixo da esquerda para a direita), a bola deve se mover para a direita, caso contrário, ela deve se mover para a esquerda. Esteja ciente de que a bola é apenas uma analogia, e não estamos tentando desenvolver uma simulação precisa das leis da física. Estamos tentando obter o mínimo da função Loss usando esse método alternativo, pois já percebemos que usar cálculo não é o ideal.\n",
    "\n",
    "Em poucas palavras, o processo de treinamento de Regressão Linear com Gradiente Descendente pode ser descrito assim:\n",
    "\n",
    "1. Coloque o conjunto de treinamento no algoritmo de machine learning e obtenha a **saída** para cada amostra nele;\n",
    "2. A **saída** é comparada com a **saída desejada** e o erro é calculado usando uma função Loss;\n",
    "3. Com base no valor do erro e na função Loss usada, uma decisão sobre como $w$ e $b$ devem ser alterados é feita a fim de minimizar o valor do erro;\n",
    "4. O processo é repetido até que o erro seja mínimo."
   ]
  },
  {
   "cell_type": "markdown",
   "id": "02fa8ed4",
   "metadata": {},
   "source": [
    "## Compreendendo o Gradient Descent\n",
    "\n",
    "Vamos formalizar isso em termos mais matemáticos. Não sabemos quais são os valores ideais para $w$ e $b$ na fórmula de regressão linear:\n",
    "\n",
    "$$f(x) = w * X + b$$\n",
    "\n",
    "Não sabemos quais são os valores ideais para $w$ e $b$ na fórmula de regressão linear:\n",
    "\n",
    "$MSE = \\frac{1}{N} \\sum\\limits_{i=1}^n (y_i - (w * x_i + b))^2$\n",
    "\n",
    "Onde $N$ é o número de amostras no conjunto de dados, $y_i$ é o valor de saída real e $x_i$ é o vetor de entrada (onde cada feature é representado por uma coordenada separada). O primeiro passo no Gradient Descent seria definir derivadas parciais para cada parâmetro. Para $w$, usamos a regra da cadeia e obtemos o resultado:\n",
    "\n",
    "$\\frac{\\partial MSE}{\\partial w} = \\frac{1}{N} \\sum\\limits_{i=1}^n -2x_i(y_i - (w * x_i + b))^2$\n",
    "\n",
    "E para $b$ temos:\n",
    "\n",
    "$\\frac{\\partial MSE}{\\partial b} = \\frac{1}{N} \\sum\\limits_{i=1}^n -2x_i(y_i - (w * x_i + b))^2$\n",
    "\n",
    "Uma vez que sabemos como calcular derivadas parciais para todos os parâmetros no modelo de machine learning (neste caso $w$ e $b$) para a função Loss definida (neste caso [MSE](https://en.wikipedia.org/wiki/Mean_squared_error)), então podemos inicializar os valores para esses parâmetros ($w$ e $b$). O processo de inicialização é um tópico completamente diferente fora do escopo deste tutorial. Portanto, neste notebook, inicializaremos esses valores como **0**. Em seguida, iniciamos a iteração por meio dos exemplos do conjunto de treinamento e atualizamos $w$ e $b$, utilizando derivadas parciais após cada amostra:\n",
    "\n",
    "$w_i \\leftarrow \\alpha \\frac{-2x_i(y_i - (w_i - 1 * x_i + b_i - 1))}{N}$\n",
    "\n",
    "$b_i \\leftarrow \\alpha \\frac{-2x_i(y_i - (w_i - 1 * x_i + b_i - 1))}{N}$\n",
    "\n",
    "Onde alfa ($\\alpha$) é o hiperparâmetro da taxa de aprendizagem (**learning rate**). Este hiperparâmetro controla o quão “forte” é uma atualização. Quando examinamos todos os exemplos do conjunto de treinamento, chamamos isso de época (**epoch**). Em geral, treinamos nossos algoritmos de machine learning por várias épocas."
   ]
  },
  {
   "cell_type": "markdown",
   "id": "30798df4",
   "metadata": {},
   "source": [
    "## Gradient Descent em Python\n",
    "\n",
    "Sabendo a teoria, agora vamos para a implementação em Python, iremos definir uma classe **GradientDescent** que irá encapsular as funcionalidades do algoritmo:"
   ]
  },
  {
   "cell_type": "code",
   "execution_count": 391,
   "id": "fe364ba8",
   "metadata": {},
   "outputs": [],
   "source": [
    "class GradientDescent:\n",
    "    def __init__(self, learning_rate):\n",
    "        self.learning_rate = learning_rate\n",
    "        self.w = 0\n",
    "        self.b = 0\n",
    "          \n",
    "    def fit(self, X, y, epochs = 100):\n",
    "        N = len(X)\n",
    "        history = []\n",
    "        \n",
    "        for e in range(epochs):\n",
    "            for i in range(N):\n",
    "                Xi = X[i, :]\n",
    "                yi = y[i]\n",
    "                \n",
    "                f = yi - (self.w * Xi + self.b)\n",
    "                                \n",
    "                self.w -= self.learning_rate * (-2 * Xi.dot(f.T).sum() / N)\n",
    "                self.b -= self.learning_rate * (-2 * f.sum() / N)\n",
    "\n",
    "            loss = mean_squared_error(y, (self.w * X + self.b))\n",
    "                                      \n",
    "            if e % 10 == 0:\n",
    "                print(f\"Epoch: {e}, Loss: {loss}\")\n",
    "            \n",
    "            history.append(loss)\n",
    "                                      \n",
    "        return history\n",
    "                \n",
    "    def predict(self, X):\n",
    "        return self.w * X + self.b"
   ]
  },
  {
   "cell_type": "markdown",
   "id": "b1da12fa",
   "metadata": {},
   "source": [
    "É uma classe muito simples. Em essência, criamos um algoritmo que usa regressão linear com Gradient Descent. É importante dizer isso: aqui, o algoritmo ainda é a regressão linear, mas o método que nos ajudou a aprender $w$ e $b$ é o Gradient Descent. Podemos mudar para qualquer outro algoritmo de aprendizagem.\n",
    "\n",
    "No construtor da classe, inicializamos o valor de $w$ e $b$ como zero. Além disso, inicializamos o hiperparâmetro da taxa de aprendizagem. Existem dois métodos:\n",
    "\n",
    "- **fit** - Este é o método que realiza o processo de treinamento. Observe que ele retorna o histórico, onde registramos a Loss durante o treinamento. Isso é feito para visualizações futuras. Além disso, para atualizar $w$ e $b$, usamos as fórmulas definidas anteriormente.\n",
    "- **predict** - Método que prevê o valor.\n",
    "\n",
    "Observe que para a Loss usamos MSE (Mean Squared Error) e no código, usamos a função do Scikit-Learn para calculá-la. \n",
    "\n",
    "Vamos então instanciar o modelo, treiná-lo e fazer previsões:"
   ]
  },
  {
   "cell_type": "code",
   "execution_count": 392,
   "id": "de75ede4",
   "metadata": {},
   "outputs": [
    {
     "name": "stdout",
     "output_type": "stream",
     "text": [
      "Epoch: 0, Loss: 5235.695766488958\n",
      "Epoch: 10, Loss: 3765.4750782322703\n",
      "Epoch: 20, Loss: 2735.053661156368\n",
      "Epoch: 30, Loss: 2011.330356767969\n",
      "Epoch: 40, Loss: 1501.9786744856056\n",
      "Epoch: 50, Loss: 1142.7999967558865\n",
      "Epoch: 60, Loss: 889.0479558364341\n",
      "Epoch: 70, Loss: 709.4620315085493\n",
      "Epoch: 80, Loss: 582.1539980939872\n",
      "Epoch: 90, Loss: 491.76470783936986\n",
      "Epoch: 100, Loss: 427.4940227098094\n",
      "Epoch: 110, Loss: 381.73240516532087\n",
      "Epoch: 120, Loss: 349.10813478543946\n",
      "Epoch: 130, Loss: 325.82235476874826\n",
      "Epoch: 140, Loss: 309.1839372898795\n",
      "Epoch: 150, Loss: 297.283403490642\n",
      "Epoch: 160, Loss: 288.7638407005637\n",
      "Epoch: 170, Loss: 282.6596353695972\n",
      "Epoch: 180, Loss: 278.28272497018366\n",
      "Epoch: 190, Loss: 275.1422182512228\n",
      "Epoch: 200, Loss: 272.8874953948089\n",
      "Epoch: 210, Loss: 271.2678625290428\n",
      "Epoch: 220, Loss: 270.10389966986725\n",
      "Epoch: 230, Loss: 269.2670831905173\n",
      "Epoch: 240, Loss: 268.66527337021756\n"
     ]
    }
   ],
   "source": [
    "model = GradientDescent(learning_rate=0.01)\n",
    "history = model.fit(X_train, y_train, 250)\n",
    "predictions = model.predict(X_test)"
   ]
  },
  {
   "cell_type": "markdown",
   "id": "0e8a863d",
   "metadata": {},
   "source": [
    "Podemos ver como nosso algoritmo está convergindo, porque a Loss está diminuindo lentamente. Uma vez feito isso, podemos plotar o histórico e ver como a função Loss diminuiu durante o processo de treinamento:"
   ]
  },
  {
   "cell_type": "code",
   "execution_count": 393,
   "id": "b4b5bdc6",
   "metadata": {},
   "outputs": [
    {
     "data": {
      "image/png": "[encoded data removed]",
      "text/plain": [
       "<Figure size 432x288 with 1 Axes>"
      ]
     },
     "metadata": {
      "needs_background": "light"
     },
     "output_type": "display_data"
    }
   ],
   "source": [
    "plt.plot(history);"
   ]
  },
  {
   "cell_type": "markdown",
   "id": "b9026028",
   "metadata": {},
   "source": [
    "Outra coisa que podemos fazer é plotar o modelo final:"
   ]
  },
  {
   "cell_type": "code",
   "execution_count": 394,
   "id": "30e63f22",
   "metadata": {},
   "outputs": [
    {
     "data": {
      "image/png": "[encoded data removed]",
      "text/plain": [
       "<Figure size 432x288 with 1 Axes>"
      ]
     },
     "metadata": {
      "needs_background": "light"
     },
     "output_type": "display_data"
    }
   ],
   "source": [
    "plt.plot(X_test, y_test, 'ro')\n",
    "plt.plot(X_test, predictions, c='blue', lw=2.5);"
   ]
  },
  {
   "cell_type": "markdown",
   "id": "c34988c2",
   "metadata": {},
   "source": [
    "O maior problema do Gradient Descent é que ele pode convergir para um mínimo **local** e não **global**. No nosso caso isso não é um problema, já que MSE é uma função convexa que tem apenas um mínimo - o próprio global. O outro problema é que, para grandes conjuntos de dados, essa abordagem pode levar algum tempo."
   ]
  },
  {
   "cell_type": "markdown",
   "id": "36362c89",
   "metadata": {},
   "source": [
    "## Stochastic Gradient Descent\n",
    "\n",
    "O [Stochastic Gradient Descent](https://en.wikipedia.org/wiki/Stochastic_gradient_descent) (SGD) é uma versão atualizada do algoritmo **Batch Gradient Descent** que acelera o cálculo aproximando o gradiente usando subconjuntos menores dos dados de treinamento. Esses subconjuntos são chamados de **mini-batches** ou apenas **batches**.\n",
    "\n",
    "Às vezes, na literatura, você descobrirá que Stochastic Gradient Descent é uma versão do Gradient Descent que escolhe uma amostra aleatória do conjunto de dados de entrada e que o Mini-Batch Gradient Descent pega um subconjunto de amostras do conjunto de dados de entrada. No entanto, essas linhas formais são um pouco confusas no dia a dia de trabalho.\n",
    "\n",
    "Se alguém disser que usa o Stochastic Gradient Descent, é muito provável que esteja se referindo àquele que usa os mini-batches. Afinal, uma amostra é apenas um subconjunto com um elemento. Neste notebook, estamos usando este contexto - que Stochastic Gradient Descent usa mini-batches que são o subconjunto do conjunto de dados de entrada.\n",
    "\n",
    "Como esse algoritmo funciona com consideravelmente menos dados do que o Batch Gradient Descent, ele é mais rápido. Além disso, isso significa que esse algoritmo pode ser usado em grandes conjuntos de dados. No entanto, devido à sua natureza aleatória, esse processo é muito menos **regularizado**. A Loss não irá linearmente ao mínimo, mas irá saltar para cima e para baixo até que se estabilize e converge. \n",
    "\n",
    "Vamos ver como é a implementação desse algoritmo em Python, mas primeiramente vamos definir um novo conjunto de dados de experimentos."
   ]
  },
  {
   "cell_type": "code",
   "execution_count": 395,
   "id": "7d3bffb5",
   "metadata": {},
   "outputs": [],
   "source": [
    "X, y = datasets.make_regression(n_samples=500, n_features=1, noise=15)\n",
    "X_train, X_test, y_train, y_test = train_test_split(X, y, test_size=0.33)"
   ]
  },
  {
   "cell_type": "markdown",
   "id": "0cd5bc83",
   "metadata": {},
   "source": [
    "A única coisa que precisamos melhorar em relação à implementação anterior é dar ao usuário de nossa classe a capacidade de definir o tamanho do **batch**:"
   ]
  },
  {
   "cell_type": "code",
   "execution_count": 396,
   "id": "52794471",
   "metadata": {},
   "outputs": [],
   "source": [
    "class StochasticGradientDescent:\n",
    "    def __init__(self, learning_rate):\n",
    "        self.learning_rate = learning_rate\n",
    "        self.w = 0\n",
    "        self.b = 0\n",
    "    \n",
    "    def get_batch(self, X, y, batch_size):\n",
    "        indexes = np.random.randint(len(X), size=batch_size)\n",
    "        return X[indexes,:], y[indexes]\n",
    "    \n",
    "    def fit(self, X, y, batch_size=32, epochs=100):\n",
    "        N = len(X)\n",
    "        history = []\n",
    "        \n",
    "        for e in range(epochs):\n",
    "            indexes = np.random.randint(N, size=batch_size)\n",
    "            X_batch, y_batch = self.get_batch(X, y, batch_size)\n",
    "            X_batch = np.squeeze(np.asarray(X_batch))\n",
    "            f = y_batch - (self.w * X_batch + self.b)\n",
    "    \n",
    "            self.w -= self.learning_rate * (-2 * X_batch.dot(f.T).sum() / N)\n",
    "            self.b -= self.learning_rate * (-2 * f.sum() / N)\n",
    "        \n",
    "            loss = mean_squared_error(y_batch, (self.w * X_batch + self.b))\n",
    "                                      \n",
    "            if e % 50 == 0:\n",
    "                print(f\"Epoch: {e}, Loss: {loss}\")\n",
    "            \n",
    "            history.append(loss)\n",
    "                                      \n",
    "        return history\n",
    "                \n",
    "    def predict(self, X):\n",
    "        return self.w * X + self.b"
   ]
  },
  {
   "cell_type": "markdown",
   "id": "6c209b7f",
   "metadata": {},
   "source": [
    "Podemos ver um método adicional **get_batch**. Este método recupera um subconjunto aleatório de dados de entrada e saída para o treinamento. \n",
    "\n",
    "O método **fit** é modificado para utilizar este método e gerar **X_batch** e **y_batch**, que são posteriormente usados no treinamento. \n",
    "\n",
    "Vamos então tentar isso em nosso conjunto de dados:"
   ]
  },
  {
   "cell_type": "code",
   "execution_count": 397,
   "id": "89ea7f46",
   "metadata": {},
   "outputs": [
    {
     "name": "stdout",
     "output_type": "stream",
     "text": [
      "Epoch: 0, Loss: 1776.1796211215024\n",
      "Epoch: 50, Loss: 549.8745272945122\n",
      "Epoch: 100, Loss: 635.0089344293408\n",
      "Epoch: 150, Loss: 455.5361089992657\n",
      "Epoch: 200, Loss: 294.32386859900714\n",
      "Epoch: 250, Loss: 301.24201380746103\n",
      "Epoch: 300, Loss: 373.96964800918676\n",
      "Epoch: 350, Loss: 261.3348683910478\n",
      "Epoch: 400, Loss: 349.2114417170443\n",
      "Epoch: 450, Loss: 260.935317874101\n",
      "Epoch: 500, Loss: 203.3278086836309\n",
      "Epoch: 550, Loss: 271.6708259000244\n",
      "Epoch: 600, Loss: 217.04253391196832\n",
      "Epoch: 650, Loss: 207.99622214507986\n"
     ]
    }
   ],
   "source": [
    "model = StochasticGradientDescent(learning_rate=0.01)\n",
    "history = model.fit(X_train, y_train, batch_size=64, epochs=700)\n",
    "\n",
    "predictions = model.predict(X_test)"
   ]
  },
  {
   "cell_type": "markdown",
   "id": "14cabac8",
   "metadata": {},
   "source": [
    "Pela saída, podemos ver que a Loss está aumentando e diminuindo, o que esperávamos, mas observe como a Loss geral está diminuindo. Podemos observar isso quando plotamos o histórico:"
   ]
  },
  {
   "cell_type": "code",
   "execution_count": 398,
   "id": "96facadf",
   "metadata": {},
   "outputs": [
    {
     "data": {
      "image/png": "[encoded data removed]",
      "text/plain": [
       "<Figure size 432x288 with 1 Axes>"
      ]
     },
     "metadata": {
      "needs_background": "light"
     },
     "output_type": "display_data"
    }
   ],
   "source": [
    "plt.plot(history);"
   ]
  },
  {
   "cell_type": "markdown",
   "id": "03d20c4d",
   "metadata": {},
   "source": [
    "Mesmo que pareça um pouco estranho no início, observe o que acontece quando plotamos os resultados:"
   ]
  },
  {
   "cell_type": "code",
   "execution_count": 399,
   "id": "2b738701",
   "metadata": {},
   "outputs": [
    {
     "data": {
      "image/png": "[encoded data removed]",
      "text/plain": [
       "<Figure size 432x288 with 1 Axes>"
      ]
     },
     "metadata": {
      "needs_background": "light"
     },
     "output_type": "display_data"
    }
   ],
   "source": [
    "plt.plot(X_test, y_test, 'ro')\n",
    "plt.plot(X_test, predictions, c='blue', lw=2.5);"
   ]
  },
  {
   "cell_type": "markdown",
   "id": "05916074",
   "metadata": {},
   "source": [
    "Conseguimos excelentes aproximações dos dados!"
   ]
  }
 ],
 "metadata": {
  "kernelspec": {
   "display_name": "Python 3",
   "language": "python",
   "name": "python3"
  },
  "language_info": {
   "codemirror_mode": {
    "name": "ipython",
    "version": 3
   },
   "file_extension": ".py",
   "mimetype": "text/x-python",
   "name": "python",
   "nbconvert_exporter": "python",
   "pygments_lexer": "ipython3",
   "version": "3.7.10"
  }
 },
 "nbformat": 4,
 "nbformat_minor": 5
}
