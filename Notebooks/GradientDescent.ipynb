{
 "cells": [
  {
   "cell_type": "markdown",
   "metadata": {},
   "source": [
    "# Gradient Descent\n",
    "\n",
    "## Exemplo com Tensorflow 2.0\n",
    "\n",
    "#### Etapas necessárias para a visualização do Gráfico 3D\n",
    "\n",
    "1. Instalar nodejs: `conda install nodejs`\n",
    "2. Instalar ipympl: `pip install ipympl`\n",
    "3. Atualizar o Jupyter Lab: `pip install --upgrade jupyterlab`\n",
    "4. Instalar extensões: \n",
    "    - `jupyter labextension install @jupyter-widgets/jupyterlab-manager` \n",
    "    - `jupyter labextension install jupyter-matplotlib`\n",
    "5. Habilitar widgets: `jupyter nbextension enable --py widgetsnbextension`\n",
    "6. Reiniciar o Jupyter Lab\n",
    "7. Decorar o código com: `%matplotlib widget`"
   ]
  },
  {
   "cell_type": "code",
   "execution_count": 3,
   "metadata": {},
   "outputs": [],
   "source": [
    "from mpl_toolkits.mplot3d import Axes3D\n",
    "import tensorflow.compat.v1 as tf\n",
    "import matplotlib.pyplot as plt\n",
    "import numpy as np\n",
    "tf.disable_v2_behavior();\n",
    "%matplotlib widget"
   ]
  },
  {
   "cell_type": "code",
   "execution_count": 4,
   "metadata": {},
   "outputs": [],
   "source": [
    "LR = 0.3\n",
    "REAL_PARAMS = [1.2, 2.5]\n",
    "INIT_PARAMS = [2, 5]"
   ]
  },
  {
   "cell_type": "code",
   "execution_count": 5,
   "metadata": {},
   "outputs": [],
   "source": [
    "x = np.linspace(-1, 1, 200, dtype=np.float32) # x data"
   ]
  },
  {
   "cell_type": "code",
   "execution_count": 6,
   "metadata": {},
   "outputs": [],
   "source": [
    "y_fun = lambda a, b: np.sin(b*np.cos(a*x))\n",
    "tf_y_fun = lambda a, b: tf.sin(b*tf.cos(a*x))"
   ]
  },
  {
   "cell_type": "code",
   "execution_count": 7,
   "metadata": {},
   "outputs": [],
   "source": [
    "noise = np.random.randn(200)/10\n",
    "y = y_fun(*REAL_PARAMS) + noise # target"
   ]
  },
  {
   "cell_type": "code",
   "execution_count": 8,
   "metadata": {},
   "outputs": [],
   "source": [
    "# tensorflow graph\n",
    "a, b = [tf.Variable(initial_value=p, dtype=tf.float32) for p in INIT_PARAMS]\n",
    "pred = tf_y_fun(a, b)\n",
    "mse = tf.reduce_mean(tf.square(y-pred))\n",
    "train_op = tf.train.GradientDescentOptimizer(LR).minimize(mse)"
   ]
  },
  {
   "cell_type": "code",
   "execution_count": 9,
   "metadata": {},
   "outputs": [],
   "source": [
    "a_list, b_list, cost_list = [], [], []\n",
    "with tf.Session() as sess:\n",
    "    sess.run(tf.global_variables_initializer())\n",
    "    for t in range(400):\n",
    "        a_, b_, mse_ = sess.run([a, b, mse])\n",
    "        a_list.append(a_); b_list.append(b_); cost_list.append(mse_) # record parameter changes\n",
    "        result, _ = sess.run([pred, train_op]) # training"
   ]
  },
  {
   "cell_type": "code",
   "execution_count": 10,
   "metadata": {},
   "outputs": [
    {
     "name": "stdout",
     "output_type": "stream",
     "text": [
      "a= 1.1967309 b= 2.4901507\n"
     ]
    },
    {
     "data": {
      "application/vnd.jupyter.widget-view+json": {
       "model_id": "4af79fd4393e44d1bbdff9733bbc5cc5",
       "version_major": 2,
       "version_minor": 0
      },
      "text/plain": [
       "Canvas(toolbar=Toolbar(toolitems=[('Home', 'Reset original view', 'home', 'home'), ('Back', 'Back to previous …"
      ]
     },
     "metadata": {},
     "output_type": "display_data"
    }
   ],
   "source": [
    "# visualization codes:\n",
    "print('a=', a_, 'b=', b_)\n",
    "plt.figure(1)\n",
    "plt.scatter(x, y, c='b') # plot data\n",
    "plt.plot(x, result, 'r-', lw=2); # plot line fitting"
   ]
  },
  {
   "cell_type": "code",
   "execution_count": 11,
   "metadata": {},
   "outputs": [
    {
     "data": {
      "application/vnd.jupyter.widget-view+json": {
       "model_id": "c0c4ff62faa34e8794aa78cf1e2a588b",
       "version_major": 2,
       "version_minor": 0
      },
      "text/plain": [
       "Canvas(toolbar=Toolbar(toolitems=[('Home', 'Reset original view', 'home', 'home'), ('Back', 'Back to previous …"
      ]
     },
     "metadata": {},
     "output_type": "display_data"
    }
   ],
   "source": [
    "# 3D cost figure\n",
    "fig = plt.figure(2); ax = Axes3D(fig)\n",
    "a3D, b3D = np.meshgrid(np.linspace(-2, 7, 30), np.linspace(-2, 7, 30)) # parameter space\n",
    "cost3D = np.array([np.mean(np.square(y_fun(a_, b_) - y)) for a_, b_ in zip(a3D.flatten(), b3D.flatten())]).reshape(a3D.shape)\n",
    "ax.plot_surface(a3D, b3D, cost3D, rstride=1, cstride=1, cmap=plt.get_cmap('rainbow'), alpha=0.5)\n",
    "ax.scatter(a_list[0], b_list[0], zs=cost_list[0], s=300, c='r') # initial parameter place\n",
    "ax.set_xlabel('a'); ax.set_ylabel('b')\n",
    "ax.plot(a_list, b_list, zs=cost_list, zdir='z', c='r', lw=3) # plot 3D gradient descent\n",
    "plt.show()"
   ]
  }
 ],
 "metadata": {
  "kernelspec": {
   "display_name": "Python 3",
   "language": "python",
   "name": "python3"
  },
  "language_info": {
   "codemirror_mode": {
    "name": "ipython",
    "version": 3
   },
   "file_extension": ".py",
   "mimetype": "text/x-python",
   "name": "python",
   "nbconvert_exporter": "python",
   "pygments_lexer": "ipython3",
   "version": "3.7.7"
  }
 },
 "nbformat": 4,
 "nbformat_minor": 4
}
