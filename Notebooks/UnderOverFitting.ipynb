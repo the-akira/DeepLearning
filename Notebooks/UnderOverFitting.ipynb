{
 "cells": [
  {
   "cell_type": "markdown",
   "metadata": {},
   "source": [
    "# Convolutional Neural Networks para Classificação de Imagens\n",
    "\n",
    "Utilizando o Conjunto de Dados [Fashion MNIST](https://www.kaggle.com/zalando-research/fashionmnist)\n",
    "\n",
    "Iniciamos importando as bibliotecas básicas necessárias"
   ]
  },
  {
   "cell_type": "code",
   "execution_count": 1,
   "metadata": {},
   "outputs": [],
   "source": [
    "import numpy as np\n",
    "import pandas as pd\n",
    "import matplotlib.pyplot as plt\n",
    "from tensorflow.keras.datasets import fashion_mnist"
   ]
  },
  {
   "cell_type": "markdown",
   "metadata": {},
   "source": [
    "Carregamos os Dados e Dividimos eles em Treinamento e Teste"
   ]
  },
  {
   "cell_type": "code",
   "execution_count": 2,
   "metadata": {},
   "outputs": [],
   "source": [
    "(x_train, y_train), (x_test, y_test) = fashion_mnist.load_data()"
   ]
  },
  {
   "cell_type": "markdown",
   "metadata": {},
   "source": [
    "Imprimimos o formato dos Dados de Treinamento\n",
    "\n",
    "60.000 imagens de dimensões 28x28 pixels"
   ]
  },
  {
   "cell_type": "code",
   "execution_count": 3,
   "metadata": {},
   "outputs": [
    {
     "name": "stdout",
     "output_type": "stream",
     "text": [
      "(60000, 28, 28)\n"
     ]
    }
   ],
   "source": [
    "print(x_train.shape)"
   ]
  },
  {
   "cell_type": "markdown",
   "metadata": {},
   "source": [
    "Projetamos o Gráfico da Imagem de Índice 3 que representa um vestido"
   ]
  },
  {
   "cell_type": "code",
   "execution_count": 4,
   "metadata": {},
   "outputs": [
    {
     "data": {
      "image/png": "[encoded data removed]",
      "text/plain": [
       "<Figure size 432x288 with 1 Axes>"
      ]
     },
     "metadata": {
      "needs_background": "light"
     },
     "output_type": "display_data"
    }
   ],
   "source": [
    "plt.imshow(x_train[3],cmap='binary');\n",
    "plt.axis('off');"
   ]
  },
  {
   "cell_type": "markdown",
   "metadata": {},
   "source": [
    "Imprimimos o Valor Máximo e Mínimo encontrados na Matriz de Números da Imagem"
   ]
  },
  {
   "cell_type": "code",
   "execution_count": 5,
   "metadata": {},
   "outputs": [
    {
     "name": "stdout",
     "output_type": "stream",
     "text": [
      "Valor Máximo: 255\n",
      "Valor Mínimo: 0\n"
     ]
    }
   ],
   "source": [
    "print(f'Valor Máximo: {x_train.max()}')\n",
    "print(f'Valor Mínimo: {x_train.min()}')"
   ]
  },
  {
   "cell_type": "markdown",
   "metadata": {},
   "source": [
    "Performamos o Scaling dos Dados dividindo-os por **255**"
   ]
  },
  {
   "cell_type": "code",
   "execution_count": 6,
   "metadata": {},
   "outputs": [],
   "source": [
    "x_train = x_train / 255\n",
    "x_test = x_test / 255"
   ]
  },
  {
   "cell_type": "markdown",
   "metadata": {},
   "source": [
    "Alteramos a Dimensão dos Dados para podermos alimentar o Algoritmo\n",
    "\n",
    "Eles atualmente estão em 2 Dimensões e precisam ser alterados para 3 Dimensões *(height, width, color)*"
   ]
  },
  {
   "cell_type": "code",
   "execution_count": 7,
   "metadata": {},
   "outputs": [],
   "source": [
    "x_train = x_train.reshape(60_000, 28, 28, 1)\n",
    "x_test = x_test.reshape(10_000, 28, 28, 1)"
   ]
  },
  {
   "cell_type": "markdown",
   "metadata": {},
   "source": [
    "Verificamos o Número de Classes Disponíveis"
   ]
  },
  {
   "cell_type": "code",
   "execution_count": 8,
   "metadata": {},
   "outputs": [
    {
     "name": "stdout",
     "output_type": "stream",
     "text": [
      "Número de classes = 10\n"
     ]
    }
   ],
   "source": [
    "K = len(set(y_train))\n",
    "print(f'Número de classes = {K}')"
   ]
  },
  {
   "cell_type": "markdown",
   "metadata": {},
   "source": [
    "Transformamos os Targets em Categóricos"
   ]
  },
  {
   "cell_type": "code",
   "execution_count": 9,
   "metadata": {},
   "outputs": [],
   "source": [
    "from tensorflow.keras.utils import to_categorical"
   ]
  },
  {
   "cell_type": "code",
   "execution_count": 10,
   "metadata": {},
   "outputs": [],
   "source": [
    "y_categorical_train = to_categorical(y_train, 10)\n",
    "y_categorical_test = to_categorical(y_test, 10)"
   ]
  },
  {
   "cell_type": "markdown",
   "metadata": {},
   "source": [
    "#### Construímos o Modelo "
   ]
  },
  {
   "cell_type": "code",
   "execution_count": 29,
   "metadata": {},
   "outputs": [],
   "source": [
    "from tensorflow.keras import Sequential\n",
    "from tensorflow.keras.layers import Dense, Conv2D, MaxPool2D, Flatten, Dropout"
   ]
  },
  {
   "cell_type": "code",
   "execution_count": 12,
   "metadata": {},
   "outputs": [],
   "source": [
    "model = Sequential()\n",
    "\n",
    "model.add(Conv2D(filters=32, kernel_size=(4,4), input_shape=(28,28,1), activation='relu'))\n",
    "model.add(MaxPool2D(pool_size=(2,2)))\n",
    "model.add(Flatten())\n",
    "model.add(Dense(128, activation='relu'))\n",
    "model.add(Dense(10,activation='softmax'))\n",
    "model.compile(loss='categorical_crossentropy',optimizer='adam',metrics=['accuracy'])"
   ]
  },
  {
   "cell_type": "markdown",
   "metadata": {},
   "source": [
    "Imprimimos o Sumário de nosso Modelo para Referência"
   ]
  },
  {
   "cell_type": "code",
   "execution_count": 13,
   "metadata": {},
   "outputs": [
    {
     "name": "stdout",
     "output_type": "stream",
     "text": [
      "Model: \"sequential\"\n",
      "_________________________________________________________________\n",
      "Layer (type)                 Output Shape              Param #   \n",
      "=================================================================\n",
      "conv2d (Conv2D)              (None, 25, 25, 32)        544       \n",
      "_________________________________________________________________\n",
      "max_pooling2d (MaxPooling2D) (None, 12, 12, 32)        0         \n",
      "_________________________________________________________________\n",
      "flatten (Flatten)            (None, 4608)              0         \n",
      "_________________________________________________________________\n",
      "dense (Dense)                (None, 128)               589952    \n",
      "_________________________________________________________________\n",
      "dense_1 (Dense)              (None, 10)                1290      \n",
      "=================================================================\n",
      "Total params: 591,786\n",
      "Trainable params: 591,786\n",
      "Non-trainable params: 0\n",
      "_________________________________________________________________\n"
     ]
    }
   ],
   "source": [
    "model.summary()"
   ]
  },
  {
   "cell_type": "markdown",
   "metadata": {},
   "source": [
    "Treinamos o Modelo"
   ]
  },
  {
   "cell_type": "code",
   "execution_count": 14,
   "metadata": {},
   "outputs": [
    {
     "name": "stdout",
     "output_type": "stream",
     "text": [
      "Epoch 1/15\n",
      "1875/1875 [==============================] - 36s 19ms/step - loss: 0.3944 - accuracy: 0.8593 - val_loss: 0.3131 - val_accuracy: 0.8883\n",
      "Epoch 2/15\n",
      "1875/1875 [==============================] - 35s 19ms/step - loss: 0.2708 - accuracy: 0.9013 - val_loss: 0.2947 - val_accuracy: 0.8934\n",
      "Epoch 3/15\n",
      "1875/1875 [==============================] - 35s 19ms/step - loss: 0.2280 - accuracy: 0.9155 - val_loss: 0.2778 - val_accuracy: 0.8982\n",
      "Epoch 4/15\n",
      "1875/1875 [==============================] - 35s 19ms/step - loss: 0.1960 - accuracy: 0.9262 - val_loss: 0.2610 - val_accuracy: 0.9078\n",
      "Epoch 5/15\n",
      "1875/1875 [==============================] - 35s 19ms/step - loss: 0.1690 - accuracy: 0.9370 - val_loss: 0.2834 - val_accuracy: 0.9059\n",
      "Epoch 6/15\n",
      "1875/1875 [==============================] - 36s 19ms/step - loss: 0.1453 - accuracy: 0.9454 - val_loss: 0.2635 - val_accuracy: 0.9102\n",
      "Epoch 7/15\n",
      "1875/1875 [==============================] - 35s 19ms/step - loss: 0.1222 - accuracy: 0.9541 - val_loss: 0.2868 - val_accuracy: 0.9091\n",
      "Epoch 8/15\n",
      "1875/1875 [==============================] - 35s 19ms/step - loss: 0.1049 - accuracy: 0.9611 - val_loss: 0.3051 - val_accuracy: 0.9097\n",
      "Epoch 9/15\n",
      "1875/1875 [==============================] - 37s 20ms/step - loss: 0.0903 - accuracy: 0.9661 - val_loss: 0.3309 - val_accuracy: 0.9075\n",
      "Epoch 10/15\n",
      "1875/1875 [==============================] - 36s 19ms/step - loss: 0.0784 - accuracy: 0.9711 - val_loss: 0.3243 - val_accuracy: 0.9134\n",
      "Epoch 11/15\n",
      "1875/1875 [==============================] - 36s 19ms/step - loss: 0.0687 - accuracy: 0.9752 - val_loss: 0.3305 - val_accuracy: 0.9164\n",
      "Epoch 12/15\n",
      "1875/1875 [==============================] - 33s 18ms/step - loss: 0.0565 - accuracy: 0.9787 - val_loss: 0.3808 - val_accuracy: 0.9086\n",
      "Epoch 13/15\n",
      "1875/1875 [==============================] - 34s 18ms/step - loss: 0.0498 - accuracy: 0.9816 - val_loss: 0.3947 - val_accuracy: 0.9134\n",
      "Epoch 14/15\n",
      "1875/1875 [==============================] - 38s 20ms/step - loss: 0.0448 - accuracy: 0.9839 - val_loss: 0.4182 - val_accuracy: 0.9126\n",
      "Epoch 15/15\n",
      "1875/1875 [==============================] - 37s 20ms/step - loss: 0.0410 - accuracy: 0.9845 - val_loss: 0.4359 - val_accuracy: 0.9143\n"
     ]
    },
    {
     "data": {
      "text/plain": [
       "<tensorflow.python.keras.callbacks.History at 0x7fb40d96f0d0>"
      ]
     },
     "execution_count": 14,
     "metadata": {},
     "output_type": "execute_result"
    }
   ],
   "source": [
    "model.fit(x_train, y_categorical_train, validation_data=(x_test, y_categorical_test), epochs=15)"
   ]
  },
  {
   "cell_type": "markdown",
   "metadata": {},
   "source": [
    "Analisamos as Métricas de Desempenho do Modelo"
   ]
  },
  {
   "cell_type": "code",
   "execution_count": 16,
   "metadata": {},
   "outputs": [
    {
     "data": {
      "text/plain": [
       "['loss', 'accuracy']"
      ]
     },
     "execution_count": 16,
     "metadata": {},
     "output_type": "execute_result"
    }
   ],
   "source": [
    "model.metrics_names"
   ]
  },
  {
   "cell_type": "code",
   "execution_count": 17,
   "metadata": {},
   "outputs": [
    {
     "data": {
      "text/html": [
       "<div>\n",
       "<style scoped>\n",
       "    .dataframe tbody tr th:only-of-type {\n",
       "        vertical-align: middle;\n",
       "    }\n",
       "\n",
       "    .dataframe tbody tr th {\n",
       "        vertical-align: top;\n",
       "    }\n",
       "\n",
       "    .dataframe thead th {\n",
       "        text-align: right;\n",
       "    }\n",
       "</style>\n",
       "<table border=\"1\" class=\"dataframe\">\n",
       "  <thead>\n",
       "    <tr style=\"text-align: right;\">\n",
       "      <th></th>\n",
       "      <th>loss</th>\n",
       "      <th>accuracy</th>\n",
       "      <th>val_loss</th>\n",
       "      <th>val_accuracy</th>\n",
       "    </tr>\n",
       "  </thead>\n",
       "  <tbody>\n",
       "    <tr>\n",
       "      <th>0</th>\n",
       "      <td>0.394376</td>\n",
       "      <td>0.859283</td>\n",
       "      <td>0.313103</td>\n",
       "      <td>0.8883</td>\n",
       "    </tr>\n",
       "    <tr>\n",
       "      <th>1</th>\n",
       "      <td>0.270779</td>\n",
       "      <td>0.901300</td>\n",
       "      <td>0.294747</td>\n",
       "      <td>0.8934</td>\n",
       "    </tr>\n",
       "    <tr>\n",
       "      <th>2</th>\n",
       "      <td>0.227964</td>\n",
       "      <td>0.915533</td>\n",
       "      <td>0.277834</td>\n",
       "      <td>0.8982</td>\n",
       "    </tr>\n",
       "    <tr>\n",
       "      <th>3</th>\n",
       "      <td>0.196024</td>\n",
       "      <td>0.926233</td>\n",
       "      <td>0.260985</td>\n",
       "      <td>0.9078</td>\n",
       "    </tr>\n",
       "    <tr>\n",
       "      <th>4</th>\n",
       "      <td>0.168954</td>\n",
       "      <td>0.937033</td>\n",
       "      <td>0.283382</td>\n",
       "      <td>0.9059</td>\n",
       "    </tr>\n",
       "    <tr>\n",
       "      <th>5</th>\n",
       "      <td>0.145316</td>\n",
       "      <td>0.945417</td>\n",
       "      <td>0.263541</td>\n",
       "      <td>0.9102</td>\n",
       "    </tr>\n",
       "    <tr>\n",
       "      <th>6</th>\n",
       "      <td>0.122212</td>\n",
       "      <td>0.954050</td>\n",
       "      <td>0.286830</td>\n",
       "      <td>0.9091</td>\n",
       "    </tr>\n",
       "    <tr>\n",
       "      <th>7</th>\n",
       "      <td>0.104852</td>\n",
       "      <td>0.961117</td>\n",
       "      <td>0.305091</td>\n",
       "      <td>0.9097</td>\n",
       "    </tr>\n",
       "    <tr>\n",
       "      <th>8</th>\n",
       "      <td>0.090329</td>\n",
       "      <td>0.966067</td>\n",
       "      <td>0.330915</td>\n",
       "      <td>0.9075</td>\n",
       "    </tr>\n",
       "    <tr>\n",
       "      <th>9</th>\n",
       "      <td>0.078414</td>\n",
       "      <td>0.971083</td>\n",
       "      <td>0.324272</td>\n",
       "      <td>0.9134</td>\n",
       "    </tr>\n",
       "    <tr>\n",
       "      <th>10</th>\n",
       "      <td>0.068692</td>\n",
       "      <td>0.975233</td>\n",
       "      <td>0.330511</td>\n",
       "      <td>0.9164</td>\n",
       "    </tr>\n",
       "    <tr>\n",
       "      <th>11</th>\n",
       "      <td>0.056529</td>\n",
       "      <td>0.978683</td>\n",
       "      <td>0.380825</td>\n",
       "      <td>0.9086</td>\n",
       "    </tr>\n",
       "    <tr>\n",
       "      <th>12</th>\n",
       "      <td>0.049779</td>\n",
       "      <td>0.981600</td>\n",
       "      <td>0.394707</td>\n",
       "      <td>0.9134</td>\n",
       "    </tr>\n",
       "    <tr>\n",
       "      <th>13</th>\n",
       "      <td>0.044809</td>\n",
       "      <td>0.983933</td>\n",
       "      <td>0.418175</td>\n",
       "      <td>0.9126</td>\n",
       "    </tr>\n",
       "    <tr>\n",
       "      <th>14</th>\n",
       "      <td>0.040951</td>\n",
       "      <td>0.984467</td>\n",
       "      <td>0.435906</td>\n",
       "      <td>0.9143</td>\n",
       "    </tr>\n",
       "  </tbody>\n",
       "</table>\n",
       "</div>"
      ],
      "text/plain": [
       "        loss  accuracy  val_loss  val_accuracy\n",
       "0   0.394376  0.859283  0.313103        0.8883\n",
       "1   0.270779  0.901300  0.294747        0.8934\n",
       "2   0.227964  0.915533  0.277834        0.8982\n",
       "3   0.196024  0.926233  0.260985        0.9078\n",
       "4   0.168954  0.937033  0.283382        0.9059\n",
       "5   0.145316  0.945417  0.263541        0.9102\n",
       "6   0.122212  0.954050  0.286830        0.9091\n",
       "7   0.104852  0.961117  0.305091        0.9097\n",
       "8   0.090329  0.966067  0.330915        0.9075\n",
       "9   0.078414  0.971083  0.324272        0.9134\n",
       "10  0.068692  0.975233  0.330511        0.9164\n",
       "11  0.056529  0.978683  0.380825        0.9086\n",
       "12  0.049779  0.981600  0.394707        0.9134\n",
       "13  0.044809  0.983933  0.418175        0.9126\n",
       "14  0.040951  0.984467  0.435906        0.9143"
      ]
     },
     "execution_count": 17,
     "metadata": {},
     "output_type": "execute_result"
    }
   ],
   "source": [
    "metrics = pd.DataFrame(model.history.history)\n",
    "metrics"
   ]
  },
  {
   "cell_type": "code",
   "execution_count": 18,
   "metadata": {},
   "outputs": [
    {
     "data": {
      "image/png": "[encoded data removed]",
      "text/plain": [
       "<Figure size 432x288 with 1 Axes>"
      ]
     },
     "metadata": {
      "needs_background": "light"
     },
     "output_type": "display_data"
    }
   ],
   "source": [
    "metrics[['loss','val_loss']].plot();"
   ]
  },
  {
   "cell_type": "code",
   "execution_count": 19,
   "metadata": {},
   "outputs": [
    {
     "data": {
      "image/png": "[encoded data removed]",
      "text/plain": [
       "<Figure size 432x288 with 1 Axes>"
      ]
     },
     "metadata": {
      "needs_background": "light"
     },
     "output_type": "display_data"
    }
   ],
   "source": [
    "metrics[['accuracy','val_accuracy']].plot();"
   ]
  },
  {
   "cell_type": "markdown",
   "metadata": {},
   "source": [
    "Em *Machine Learning*, o objetivo é alcançar modelos que **generalizem**, ou seja, que executem bem em dados nunca antes vistos - e **overfitting** é o obstáculo central. Podemos apenas controlar o que podemos observar, por isso é crucial que sejamos capazes de medir de forma confiável o\n",
    "poder de generalização de nosso modelo. \n",
    "\n",
    "Avaliar um modelo sempre se resume a dividir os dados disponíveis em três conjuntos: **treinamento**, **validação** e **teste**. Treinamos o modelo com os dados de treinamento e avaliamos ele nos dados de validação. Quando o modelo estiver pronto para o funcionamento, testamos-no pela última vez nos dados de teste.\n",
    "\n",
    "A razão pelo qual dividimos em três distintos conjuntos é que desenvolver um modelo sempre envolve ajustar sua configuração: por\n",
    "exemplo, escolhendo o número de *layers* ou o tamanho das *layers* (chamados de hiper parâmetros do modelo, para distingui-los dos parâmetros, que são os *weights* da rede neural). Fazemos esse ajuste usando como um sinal de feedback o desempenho do modelo nos dados de validação. Em essência, esse ajuste é uma forma de aprendizagem: uma busca por uma boa configuração em algum espaço de parâmetro. Como resultado, ajustando a configuração do modelo com base em seu desempenho no conjunto de validação pode resultar rapidamente em **overfitting** ao conjunto de validação, mesmo que o modelo nunca seja diretamente treinado nele.\n",
    "\n",
    "Central para esse fenômeno é a noção de [vazamento de informações](https://en.wikipedia.org/wiki/Leakage_(machine_learning)). Cada vez que ajustamos um hiperparâmetro do modelo com base no desempenho do modelo em relação ao conjunto de validação, algumas informações sobre os dados de validação vazam  para o modelo. Se fizermos isto apenas uma vez, para um parâmetro, muito poucos bits de informação vazarão, e o conjunto de validação permanecerá confiável para avaliar o modelo. Mas se repetirmos muitas vezes - executando um experimento, avaliando o conjunto de validação e modificando o modelo como resultado, então será vazada uma quantidade cada vez mais significativa de informações sobre o conjunto de validação no modelo.\n",
    "\n",
    "No fim das contas, acabaremos com um modelo que funciona artificialmente bem nos dados de validação, porque é para isso que ele foi otimizado. Devemos nos preocupar com o desempenho do modelo em **dados completamente novos**, não com os dados de validação, então precisamos usar um conjunto de dados totalmente diferente e nunca antes visto para avaliar o modelo: o conjunto de dados de **teste**. O modelo não deve ter acesso a nenhuma informação sobre o conjunto de teste, mesmo indiretamente.\n",
    "\n",
    "O problema fundamental em *Machine Learning* é a tensão entre otimização e generalização. Otimização se refere ao processo de ajustar um modelo para obter o melhor desempenho possível nos dados de treinamento (o aprendizado em *Machine Learning*), enquanto a generalização se refere a quão bem o modelo treinado executa em dados que nunca viu antes. O objetivo do jogo é obter uma boa generalização, de fato, mas não controlamos a generalização; só podemos ajustar o modelo com base nos dados de treinamento.\n",
    "\n",
    "No início do treinamento, a otimização e a generalização estão correlacionadas: quanto menor a *[Loss](https://en.wikipedia.org/wiki/Loss_function)* nos dados de treinamento, menor a *Loss* nos dados de teste. Enquanto isso está acontecendo, o modelo é considerado *underfit*: ainda há progresso a ser feito; a rede neural ainda não modelou todos os padrões relevantes nos dados de treinamento. Mas depois de um certo número de iterações nos dados de treinamento, a generalização irá parar de melhorar e as métricas de validação param e, em seguida, começam a degradar: o modelo está começando a se ajustar demais (*overfit*). Ou seja, está começando a aprender padrões que são específicos aos dados de treinamento, mas que são enganosos ou irrelevantes quando se trata de novos dados.\n",
    "\n",
    "Para evitar que um modelo aprenda padrões enganosos ou irrelevantes encontrados nos dados de treinamento, a melhor solução é obter mais dados de treinamento. Um modelo treinado em mais dados irá naturalmente generalizar melhor. Quando isso não for possível, a próxima melhor solução é modular a quantidade de informações que o modelo pode armazenar ou adicionar restrições sobre quais informações podem ser armazenadas. Se uma rede só puder memorizar um pequeno número de padrões, o processo de otimização a forçará a se concentrar nos padrões mais proeminentes, que têm uma chance melhor de generalizar bem."
   ]
  },
  {
   "cell_type": "markdown",
   "metadata": {},
   "source": [
    "#### Interpretando as Curvas de Aprendizado\n",
    "\n",
    "Podemos considerar as informações nos dados de treinamento como sendo de dois tipos: **sinal** e **ruído**. O sinal é a parte que generaliza, a parte que pode ajudar nosso modelo a fazer previsões a partir de novos dados. O ruído é a parte que só vale para os dados de treinamento; o ruído é toda a flutuação aleatória que vem de dados no mundo real ou todos os padrões incidentais e não informativos que não podem realmente ajudar o modelo a fazer previsões. O ruído é a parte que pode parecer útil, mas realmente não é.\n",
    "\n",
    "Treinamos um modelo escolhendo *weights* ou parâmetros que minimizam a *Loss* em um conjunto de treinamento. Devemos saber, no entanto, que para avaliar com precisão o desempenho de um modelo, precisamos avaliá-lo em um novo conjunto de dados, os dados de validação. \n",
    "\n",
    "Quando treinamos um modelo, estamos registrando a *Loss* no conjunto de treinamento *epoch* por *epoch*. Para isso, adicionaremos um gráfico dos dados de validação também. Chamamos esses gráficos de curvas de aprendizado. Para treinar modelos de *Deep Learning* com eficácia, precisamos ser capazes de interpretá-los.\n",
    "\n",
    "![img](https://raw.githubusercontent.com/the-akira/DeepLearning/master/Imagens/LearningCurves.png)\n",
    "\n",
    "- *Validation Loss* fornece uma estimativa do erro esperado em dados não vistos.\n",
    "\n",
    "Agora, o *training loss* diminuirá quando o modelo aprender o sinal ou o ruído. Mas a *validation loss* diminuirá apenas quando o modelo aprender o sinal. (Qualquer ruído que o modelo aprendeu com o conjunto de treinamento não generalizará para novos dados.) Portanto, quando um modelo aprende o sinal, ambas as curvas caem, mas quando ele aprende o ruído, uma lacuna é criada nas curvas. O tamanho da lacuna informa quanto ruído o modelo aprendeu.\n",
    "\n",
    "Idealmente, criaríamos modelos que aprendessem todo o sinal e nenhum ruído. Isso praticamente nunca vai acontecer. Em vez disso, fazemos uma troca. Podemos fazer com que o modelo aprenda mais sinal ao custo de aprender mais ruído. Enquanto a troca estiver a nosso favor, a *validation loss* continuará diminuindo. Depois de certo ponto, porém, a troca pode se voltar contra nós, o custo ultrapassa o benefício e a *validation loss* começa a aumentar.\n",
    "\n",
    "![img](https://raw.githubusercontent.com/the-akira/DeepLearning/master/Imagens/UnderOverFitting.png)\n",
    "\n",
    "Essa compensação indica que pode haver dois problemas que ocorrem ao treinar um modelo: sinal insuficiente ou muito ruído. O ajuste insuficiente do conjunto de treinamento ocorre quando a *Loss* não é tão baixa quanto poderia porque o modelo não aprendeu o sinal suficiente. O **overfitting** do conjunto de treinamento é quando a *Loss* não é tão baixa quanto poderia porque o modelo aprendeu muito ruído. O truque para treinar modelos de *Deep Learning* é encontrar o melhor equilíbrio entre os dois."
   ]
  },
  {
   "cell_type": "markdown",
   "metadata": {},
   "source": [
    "No primeiro modelo que definimos e treinamos está ocorrendo justamente o **overfitting**, quando um modelo está aprendendo muito ansiosamente o ruído, a *validation loss* pode começar a aumentar durante o treinamento. Para evitar isso, podemos simplesmente interromper o treinamento sempre que parecer que a *validation loss* não está mais diminuindo. Interromper o treinamento dessa forma é chamado de **early stopping**.\n",
    "\n",
    "![img](https://raw.githubusercontent.com/the-akira/DeepLearning/master/Imagens/EarlyStopping.png)\n",
    "\n",
    "Treinar com **early stopping** também significa que corremos menos risco de interromper o treinamento muito cedo, antes que a rede termine de aprender o sinal. Portanto, além de evitar que o overfitting ocorra por treinar por muito tempo, a **early stopping** também pode evitar que o underfitting ocorra por não treinar por tempo suficiente. Basta definirmos as *epochs* de treinamento para um número grande (mais do que você precisa) e a **early stopping** cuidará do resto.\n",
    "\n",
    "Vamos então definir um novo modelo e utilizar o **early stopping**!"
   ]
  },
  {
   "cell_type": "code",
   "execution_count": null,
   "metadata": {},
   "outputs": [],
   "source": [
    "model = Sequential()\n",
    "\n",
    "model.add(Conv2D(filters=32, kernel_size=(4,4), input_shape=(28,28,1), activation='relu'))\n",
    "model.add(MaxPool2D(pool_size=(2,2)))\n",
    "model.add(Flatten())\n",
    "model.add(Dense(128, activation='relu'))\n",
    "model.add(Dropout(0.25))\n",
    "model.add(Dense(10,activation='softmax'))\n",
    "model.compile(loss='categorical_crossentropy',optimizer='adam',metrics=['accuracy'])"
   ]
  },
  {
   "cell_type": "code",
   "execution_count": 37,
   "metadata": {},
   "outputs": [],
   "source": [
    "from tensorflow.keras.callbacks import EarlyStopping\n",
    "\n",
    "early_stop = EarlyStopping(monitor='val_loss', patience=0)"
   ]
  },
  {
   "cell_type": "code",
   "execution_count": 38,
   "metadata": {},
   "outputs": [
    {
     "name": "stdout",
     "output_type": "stream",
     "text": [
      "Epoch 1/15\n",
      "1875/1875 [==============================] - 35s 19ms/step - loss: 0.4281 - accuracy: 0.8473 - val_loss: 0.3298 - val_accuracy: 0.8800\n",
      "Epoch 2/15\n",
      "1875/1875 [==============================] - 37s 20ms/step - loss: 0.2995 - accuracy: 0.8910 - val_loss: 0.2953 - val_accuracy: 0.8902\n",
      "Epoch 3/15\n",
      "1875/1875 [==============================] - 37s 20ms/step - loss: 0.2552 - accuracy: 0.9054 - val_loss: 0.2642 - val_accuracy: 0.9042\n",
      "Epoch 4/15\n",
      "1875/1875 [==============================] - 36s 19ms/step - loss: 0.2279 - accuracy: 0.9159 - val_loss: 0.2547 - val_accuracy: 0.9068\n",
      "Epoch 5/15\n",
      "1875/1875 [==============================] - 36s 19ms/step - loss: 0.2036 - accuracy: 0.9237 - val_loss: 0.2482 - val_accuracy: 0.9094\n",
      "Epoch 6/15\n",
      "1875/1875 [==============================] - 36s 19ms/step - loss: 0.1852 - accuracy: 0.9307 - val_loss: 0.2549 - val_accuracy: 0.9108\n"
     ]
    },
    {
     "data": {
      "text/plain": [
       "<tensorflow.python.keras.callbacks.History at 0x7fb39fa16550>"
      ]
     },
     "execution_count": 38,
     "metadata": {},
     "output_type": "execute_result"
    }
   ],
   "source": [
    "model.fit(x_train, y_categorical_train, validation_data=(x_test, y_categorical_test), epochs=15, callbacks=[early_stop])"
   ]
  },
  {
   "cell_type": "code",
   "execution_count": 39,
   "metadata": {},
   "outputs": [
    {
     "data": {
      "text/html": [
       "<div>\n",
       "<style scoped>\n",
       "    .dataframe tbody tr th:only-of-type {\n",
       "        vertical-align: middle;\n",
       "    }\n",
       "\n",
       "    .dataframe tbody tr th {\n",
       "        vertical-align: top;\n",
       "    }\n",
       "\n",
       "    .dataframe thead th {\n",
       "        text-align: right;\n",
       "    }\n",
       "</style>\n",
       "<table border=\"1\" class=\"dataframe\">\n",
       "  <thead>\n",
       "    <tr style=\"text-align: right;\">\n",
       "      <th></th>\n",
       "      <th>loss</th>\n",
       "      <th>accuracy</th>\n",
       "      <th>val_loss</th>\n",
       "      <th>val_accuracy</th>\n",
       "    </tr>\n",
       "  </thead>\n",
       "  <tbody>\n",
       "    <tr>\n",
       "      <th>0</th>\n",
       "      <td>0.428062</td>\n",
       "      <td>0.847300</td>\n",
       "      <td>0.329799</td>\n",
       "      <td>0.8800</td>\n",
       "    </tr>\n",
       "    <tr>\n",
       "      <th>1</th>\n",
       "      <td>0.299535</td>\n",
       "      <td>0.891050</td>\n",
       "      <td>0.295320</td>\n",
       "      <td>0.8902</td>\n",
       "    </tr>\n",
       "    <tr>\n",
       "      <th>2</th>\n",
       "      <td>0.255152</td>\n",
       "      <td>0.905350</td>\n",
       "      <td>0.264221</td>\n",
       "      <td>0.9042</td>\n",
       "    </tr>\n",
       "    <tr>\n",
       "      <th>3</th>\n",
       "      <td>0.227854</td>\n",
       "      <td>0.915867</td>\n",
       "      <td>0.254714</td>\n",
       "      <td>0.9068</td>\n",
       "    </tr>\n",
       "    <tr>\n",
       "      <th>4</th>\n",
       "      <td>0.203601</td>\n",
       "      <td>0.923750</td>\n",
       "      <td>0.248205</td>\n",
       "      <td>0.9094</td>\n",
       "    </tr>\n",
       "    <tr>\n",
       "      <th>5</th>\n",
       "      <td>0.185228</td>\n",
       "      <td>0.930683</td>\n",
       "      <td>0.254875</td>\n",
       "      <td>0.9108</td>\n",
       "    </tr>\n",
       "  </tbody>\n",
       "</table>\n",
       "</div>"
      ],
      "text/plain": [
       "       loss  accuracy  val_loss  val_accuracy\n",
       "0  0.428062  0.847300  0.329799        0.8800\n",
       "1  0.299535  0.891050  0.295320        0.8902\n",
       "2  0.255152  0.905350  0.264221        0.9042\n",
       "3  0.227854  0.915867  0.254714        0.9068\n",
       "4  0.203601  0.923750  0.248205        0.9094\n",
       "5  0.185228  0.930683  0.254875        0.9108"
      ]
     },
     "execution_count": 39,
     "metadata": {},
     "output_type": "execute_result"
    }
   ],
   "source": [
    "metrics = pd.DataFrame(model.history.history)\n",
    "metrics"
   ]
  },
  {
   "cell_type": "code",
   "execution_count": 40,
   "metadata": {},
   "outputs": [
    {
     "data": {
      "image/png": "[encoded data removed]",
      "text/plain": [
       "<Figure size 432x288 with 1 Axes>"
      ]
     },
     "metadata": {
      "needs_background": "light"
     },
     "output_type": "display_data"
    }
   ],
   "source": [
    "metrics[['loss','val_loss']].plot();"
   ]
  },
  {
   "cell_type": "code",
   "execution_count": 41,
   "metadata": {},
   "outputs": [
    {
     "data": {
      "image/png": "[encoded data removed]",
      "text/plain": [
       "<Figure size 432x288 with 1 Axes>"
      ]
     },
     "metadata": {
      "needs_background": "light"
     },
     "output_type": "display_data"
    }
   ],
   "source": [
    "metrics[['accuracy','val_accuracy']].plot();"
   ]
  },
  {
   "cell_type": "code",
   "execution_count": 42,
   "metadata": {},
   "outputs": [],
   "source": [
    "from sklearn.metrics import classification_report, confusion_matrix"
   ]
  },
  {
   "cell_type": "code",
   "execution_count": 43,
   "metadata": {},
   "outputs": [],
   "source": [
    "predictions = np.argmax(model.predict(x_test), axis=-1)"
   ]
  },
  {
   "cell_type": "code",
   "execution_count": 44,
   "metadata": {},
   "outputs": [
    {
     "name": "stdout",
     "output_type": "stream",
     "text": [
      "              precision    recall  f1-score   support\n",
      "\n",
      "           0       0.88      0.85      0.87      1000\n",
      "           1       0.99      0.98      0.99      1000\n",
      "           2       0.87      0.84      0.86      1000\n",
      "           3       0.90      0.93      0.91      1000\n",
      "           4       0.89      0.82      0.85      1000\n",
      "           5       0.99      0.98      0.98      1000\n",
      "           6       0.72      0.78      0.75      1000\n",
      "           7       0.94      0.98      0.96      1000\n",
      "           8       0.96      0.99      0.97      1000\n",
      "           9       0.98      0.95      0.96      1000\n",
      "\n",
      "    accuracy                           0.91     10000\n",
      "   macro avg       0.91      0.91      0.91     10000\n",
      "weighted avg       0.91      0.91      0.91     10000\n",
      "\n"
     ]
    }
   ],
   "source": [
    "print(classification_report(y_test, predictions))"
   ]
  },
  {
   "cell_type": "markdown",
   "metadata": {},
   "source": [
    "Função que irá Projetar uma Matriz de Confusão Completa"
   ]
  },
  {
   "cell_type": "code",
   "execution_count": 45,
   "metadata": {},
   "outputs": [],
   "source": [
    "import itertools\n",
    "\n",
    "def plot_confusion_matrix(cm, classes, normalize=False, title='Confusion Matrix', cmap=plt.cm.Blues):\n",
    "    \"\"\"\n",
    "    Função que imprime e plota a Matriz de Confusão.\n",
    "    Normalização pode ser aplicada ao setar o parâmetro 'Normalize = True'\n",
    "    \"\"\"\n",
    "    if normalize:\n",
    "        cm = cm.astype('float') / cm.sum(axis=1)[:,np.newaxis]\n",
    "        print('Matriz de Confusão Normalizada')\n",
    "    else:\n",
    "        print('Matriz de Confusão sem Normalização')\n",
    "    print(cm)\n",
    "    plt.imshow(cm, interpolation='nearest', cmap=cmap)\n",
    "    plt.title(title)\n",
    "    plt.colorbar()\n",
    "    tick_marks = np.arange(len(classes))\n",
    "    plt.xticks(tick_marks, classes, rotation=45)\n",
    "    plt.yticks(tick_marks, classes)\n",
    "    \n",
    "    fmt = '.2f' if normalize else 'd'\n",
    "    thresh = cm.max() / 2.0\n",
    "    for i, j in itertools.product(range(cm.shape[0]), range(cm.shape[1])):\n",
    "        plt.text(j, i, format(cm[i,j],fmt), horizontalalignment='center',\n",
    "                color='white' if cm[i,j] > thresh else 'black')\n",
    "    \n",
    "    plt.tight_layout()\n",
    "    plt.xlabel('True Label')\n",
    "    plt.ylabel('Predicted Label')\n",
    "    plt.show()"
   ]
  },
  {
   "cell_type": "code",
   "execution_count": 46,
   "metadata": {},
   "outputs": [
    {
     "name": "stdout",
     "output_type": "stream",
     "text": [
      "Matriz de Confusão sem Normalização\n",
      "[[852   3  11  24   4   1  94   0  11   0]\n",
      " [  0 983   0  10   1   0   4   0   2   0]\n",
      " [ 16   2 844   8  48   0  77   0   5   0]\n",
      " [ 12   3  11 934  16   0  21   0   3   0]\n",
      " [  1   1  52  31 817   0  98   0   0   0]\n",
      " [  0   0   0   0   0 978   0  14   0   8]\n",
      " [ 80   1  49  32  35   0 783   0  20   0]\n",
      " [  0   0   0   0   0   7   0 978   1  14]\n",
      " [  2   0   0   4   0   1   3   2 988   0]\n",
      " [  0   0   0   0   0   5   1  43   0 951]]\n"
     ]
    },
    {
     "data": {
      "image/png": "[encoded data removed]",
      "text/plain": [
       "<Figure size 432x288 with 2 Axes>"
      ]
     },
     "metadata": {
      "needs_background": "light"
     },
     "output_type": "display_data"
    }
   ],
   "source": [
    "p_test = model.predict(x_test).argmax(axis=1)\n",
    "cm = confusion_matrix(y_test, p_test)\n",
    "plot_confusion_matrix(cm, list(range(10)))"
   ]
  },
  {
   "cell_type": "markdown",
   "metadata": {},
   "source": [
    "Mapeamento de Labels"
   ]
  },
  {
   "cell_type": "code",
   "execution_count": 47,
   "metadata": {},
   "outputs": [
    {
     "name": "stdout",
     "output_type": "stream",
     "text": [
      "['T-shirt/top', 'Trouser', 'Pullover', 'Dress', 'Coat', 'Sandal', 'Shirt', 'Sneaker', 'Bag', 'Ankle', 'boot']\n"
     ]
    }
   ],
   "source": [
    "labels = \"\"\"\n",
    "T-shirt/top\n",
    "Trouser\n",
    "Pullover\n",
    "Dress\n",
    "Coat\n",
    "Sandal\n",
    "Shirt\n",
    "Sneaker\n",
    "Bag\n",
    "Ankle boot\"\"\".split()\n",
    "print(labels)"
   ]
  },
  {
   "cell_type": "markdown",
   "metadata": {},
   "source": [
    "Apresentamos alguns Exemplos que foram Classificados Erroneamente pelo Modelo"
   ]
  },
  {
   "cell_type": "code",
   "execution_count": 48,
   "metadata": {},
   "outputs": [
    {
     "data": {
      "image/png": "[encoded data removed]",
      "text/plain": [
       "<Figure size 432x288 with 1 Axes>"
      ]
     },
     "metadata": {
      "needs_background": "light"
     },
     "output_type": "display_data"
    }
   ],
   "source": [
    "index_miss_classified = np.where(p_test != y_test)[0]\n",
    "i = np.random.choice(index_miss_classified)\n",
    "plt.imshow(x_test[i].reshape(28,28), cmap='gray');\n",
    "plt.title(f'True label = {labels[y_test[i]]} | Predicted = {labels[p_test[i]]}');"
   ]
  }
 ],
 "metadata": {
  "kernelspec": {
   "display_name": "Python 3",
   "language": "python",
   "name": "python3"
  },
  "language_info": {
   "codemirror_mode": {
    "name": "ipython",
    "version": 3
   },
   "file_extension": ".py",
   "mimetype": "text/x-python",
   "name": "python",
   "nbconvert_exporter": "python",
   "pygments_lexer": "ipython3",
   "version": "3.7.7"
  }
 },
 "nbformat": 4,
 "nbformat_minor": 4
}
