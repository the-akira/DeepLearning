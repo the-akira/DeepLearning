{
  "nbformat": 4,
  "nbformat_minor": 0,
  "metadata": {
    "colab": {
      "name": "DropoutBatchNormalization.ipynb",
      "provenance": [],
      "collapsed_sections": []
    },
    "kernelspec": {
      "name": "python3",
      "display_name": "Python 3"
    },
    "accelerator": "GPU"
  },
  "cells": [
    {
      "cell_type": "markdown",
      "metadata": {
        "id": "KvgzLOa1RNRh"
      },
      "source": [
        "# Convolutional Neural Networks para Classificação de Imagens \n",
        "\n",
        "Utilizando o Conjunto de Dados [CIFAR-10](https://www.cs.toronto.edu/~kriz/cifar.html)\n",
        "\n",
        "Iniciamos importando as bibliotecas básicas necessárias"
      ]
    },
    {
      "cell_type": "code",
      "metadata": {
        "id": "3PTSIoVUhdfC"
      },
      "source": [
        "import pandas as pd \n",
        "import numpy as np \n",
        "import matplotlib.pyplot as plt \n",
        "%matplotlib inline"
      ],
      "execution_count": 13,
      "outputs": []
    },
    {
      "cell_type": "code",
      "metadata": {
        "id": "NKy8N7hEhhDY"
      },
      "source": [
        "from tensorflow.keras.datasets import cifar10"
      ],
      "execution_count": 14,
      "outputs": []
    },
    {
      "cell_type": "markdown",
      "metadata": {
        "id": "UeQmAjHsRVNL"
      },
      "source": [
        "#### Separamos os dados de Treinamento e Teste"
      ]
    },
    {
      "cell_type": "code",
      "metadata": {
        "id": "cN5q6Afihip8"
      },
      "source": [
        "(x_train, y_train),(x_test, y_test) = cifar10.load_data();"
      ],
      "execution_count": 15,
      "outputs": []
    },
    {
      "cell_type": "markdown",
      "metadata": {
        "id": "SouWo2zsRZog"
      },
      "source": [
        "#### Obtemos o formato de nossos dados\n",
        "\n",
        "50.000 imagens de 32x32 pixels com 3 canais de cores (Red, Green, Blue)"
      ]
    },
    {
      "cell_type": "code",
      "metadata": {
        "colab": {
          "base_uri": "https://localhost:8080/"
        },
        "id": "Flht8U8MhkCF",
        "outputId": "a385f4c9-61d9-44eb-fb14-d7b97a7df0ca"
      },
      "source": [
        "x_train.shape"
      ],
      "execution_count": 16,
      "outputs": [
        {
          "output_type": "execute_result",
          "data": {
            "text/plain": [
              "(50000, 32, 32, 3)"
            ]
          },
          "metadata": {
            "tags": []
          },
          "execution_count": 16
        }
      ]
    },
    {
      "cell_type": "markdown",
      "metadata": {
        "id": "8ccNtPUTRhGf"
      },
      "source": [
        "Obtemos o formato de uma Matriz que representa uma única imagem"
      ]
    },
    {
      "cell_type": "code",
      "metadata": {
        "colab": {
          "base_uri": "https://localhost:8080/"
        },
        "id": "hZRqO9KehmEg",
        "outputId": "2976c9c7-c110-4ad0-a083-f1d3892a2ba4"
      },
      "source": [
        "x_train[12].shape"
      ],
      "execution_count": 17,
      "outputs": [
        {
          "output_type": "execute_result",
          "data": {
            "text/plain": [
              "(32, 32, 3)"
            ]
          },
          "metadata": {
            "tags": []
          },
          "execution_count": 17
        }
      ]
    },
    {
      "cell_type": "markdown",
      "metadata": {
        "id": "-o8t2akGRkbC"
      },
      "source": [
        "Apresentamos a imagem com a função **imshow()** da biblioteca Matplotlib\n",
        "\n",
        "Observe que nesta imagem temos um cavalo."
      ]
    },
    {
      "cell_type": "code",
      "metadata": {
        "colab": {
          "base_uri": "https://localhost:8080/",
          "height": 248
        },
        "id": "czHPTwM6hni8",
        "outputId": "74c2d31a-2e95-469b-c18b-0431bd5e02cc"
      },
      "source": [
        "plt.imshow(x_train[12]);\n",
        "plt.axis('off');"
      ],
      "execution_count": 19,
      "outputs": [
        {
          "output_type": "display_data",
          "data": {
            "image/png": "[encoded data removed]",
            "text/plain": [
              "<Figure size 432x288 with 1 Axes>"
            ]
          },
          "metadata": {
            "tags": [],
            "needs_background": "light"
          }
        }
      ]
    },
    {
      "cell_type": "markdown",
      "metadata": {
        "id": "xgNkejaURwXe"
      },
      "source": [
        "Imprimimos o valor máximo e mínimo encontrados na Matriz"
      ]
    },
    {
      "cell_type": "code",
      "metadata": {
        "colab": {
          "base_uri": "https://localhost:8080/"
        },
        "id": "6yPij3KJho7L",
        "outputId": "b5c937a4-545e-406c-f5cb-3d3b1e316ac1"
      },
      "source": [
        "print(x_train[12].max(), x_train[12].min())"
      ],
      "execution_count": 20,
      "outputs": [
        {
          "output_type": "stream",
          "text": [
            "251 2\n"
          ],
          "name": "stdout"
        }
      ]
    },
    {
      "cell_type": "markdown",
      "metadata": {
        "id": "pr4rs_-TR0DH"
      },
      "source": [
        "Performamos o Scaling dos Dados para facilitar os cálculos executados pela Rede Neural"
      ]
    },
    {
      "cell_type": "code",
      "metadata": {
        "id": "hkmO8EQqhqoz"
      },
      "source": [
        "x_train = x_train / 255\n",
        "x_test = x_test / 255"
      ],
      "execution_count": 21,
      "outputs": []
    },
    {
      "cell_type": "code",
      "metadata": {
        "id": "0hERZNSuhsVe"
      },
      "source": [
        "from tensorflow.keras.utils import to_categorical"
      ],
      "execution_count": 22,
      "outputs": []
    },
    {
      "cell_type": "markdown",
      "metadata": {
        "id": "3-x4m9pKR6YT"
      },
      "source": [
        "Transformamos nosso **Target**(y) em Categórico"
      ]
    },
    {
      "cell_type": "code",
      "metadata": {
        "id": "g0XVFAlQhu4v"
      },
      "source": [
        "y_categorical_train = to_categorical(y_train, 10)\n",
        "y_categorical_test = to_categorical(y_test, 10)"
      ],
      "execution_count": 23,
      "outputs": []
    },
    {
      "cell_type": "markdown",
      "metadata": {
        "id": "bonEFkw4R_vV"
      },
      "source": [
        "Imprimimos o valor do Target de índice 12, que nos retorna o número 7 que representa um Cavalo"
      ]
    },
    {
      "cell_type": "code",
      "metadata": {
        "colab": {
          "base_uri": "https://localhost:8080/"
        },
        "id": "_kGuQBtchwiv",
        "outputId": "67f86305-4d3b-4076-db69-050670c391c4"
      },
      "source": [
        "y_train[12]"
      ],
      "execution_count": 24,
      "outputs": [
        {
          "output_type": "execute_result",
          "data": {
            "text/plain": [
              "array([7], dtype=uint8)"
            ]
          },
          "metadata": {
            "tags": []
          },
          "execution_count": 24
        }
      ]
    },
    {
      "cell_type": "markdown",
      "metadata": {
        "id": "bhUjMoxOSG-4"
      },
      "source": [
        "### Construindo o Modelo\n",
        "\n",
        "Neste Modelo em específico vamos utilizar duas técnicas interessantes que podem auxiliar na performance de nossa Rede Neural.\n",
        "\n",
        "#### Dropout\n",
        "\n",
        "O *Dropout* é uma das técnicas de regularização mais eficazes e mais comumente usadas para redes neurais, desenvolvida por [Geoffrey Hinton](https://en.wikipedia.org/wiki/Geoffrey_Hinton) e seus alunos na Universidade de Toronto. *Dropout*, aplicada a uma *layer*, consiste em eliminar aleatoriamente\n",
        "(definir como zero) uma série de *output features* da *layer* durante o treinamento. Digamos dada uma determinada *layer* normalmente ela retornaria um vetor `[0.6, 0.7, 1.5, 0.8, 1.2]` para uma determinada amostra de *input* durante o treinamento. Depois de aplicar o *Dropout*, este vetor terá algumas entradas zero distribuído aleatoriamente: por exemplo, `[0, 0.7, 1.5, 0, 1.2]`. A taxa de *Dropout* é a fração dos recursos que são zerados; geralmente é definido entre **0.2** e **0.5**. Na hora do teste, não unidades são descartadas; em vez disso, os valores de *output* da *layer* são reduzidos por um fator igual à taxa de *Dropout*, para equilibrar o fato de que mais unidades estão ativas do que em tempo de treino.\n",
        "\n",
        "### Batch Normalization\n",
        "\n",
        "Normalização é uma ampla categoria de métodos que procuram fazer com que diferentes amostras sejam vistas por um modelo de *Machine Learning* mais semelhante entre si, o que ajuda o modelo a aprender e generalizar bem para novos dados.\n",
        "\n",
        "A *Batch Normalization* (também conhecida como *batch norm*) é um método usado para tornar as redes neurais artificiais mais rápidas e estáveis por meio da normalização da *input layer*, centralizando e redimensionando. Foi proposto por Sergey Ioffe e Christian Szegedy em 2015."
      ]
    },
    {
      "cell_type": "code",
      "metadata": {
        "id": "CShml728hyGm"
      },
      "source": [
        "from tensorflow.keras.models import Sequential\n",
        "from tensorflow.keras.layers import Dense, Conv2D, MaxPool2D, Flatten, Dropout, BatchNormalization"
      ],
      "execution_count": 37,
      "outputs": []
    },
    {
      "cell_type": "code",
      "metadata": {
        "id": "jKLs6iF-hzaZ"
      },
      "source": [
        "model = Sequential()\n",
        "\n",
        "model.add(Conv2D(filters=32, kernel_size=(4,4), input_shape=(32,32,3), activation='relu'))\n",
        "model.add(Dropout(0.2))\n",
        "model.add(MaxPool2D(pool_size=(2,2)))\n",
        "model.add(BatchNormalization())\n",
        "model.add(Conv2D(filters=32, kernel_size=(4,4), input_shape=(32,32,3), activation='relu'))\n",
        "model.add(Dropout(0.3))\n",
        "model.add(MaxPool2D(pool_size=(2,2)))\n",
        "model.add(Flatten())\n",
        "model.add(Dense(256,activation='relu'))\n",
        "\n",
        "# Output Layer\n",
        "model.add(Dense(10,activation='softmax'))\n",
        "model.compile(loss='categorical_crossentropy', optimizer='adam', metrics=['accuracy'])"
      ],
      "execution_count": 123,
      "outputs": []
    },
    {
      "cell_type": "code",
      "metadata": {
        "colab": {
          "base_uri": "https://localhost:8080/"
        },
        "id": "JRbNtv1oh1ZO",
        "outputId": "7eeba839-cb2b-470f-f8f7-de65521029ec"
      },
      "source": [
        "model.summary()"
      ],
      "execution_count": 124,
      "outputs": [
        {
          "output_type": "stream",
          "text": [
            "Model: \"sequential_15\"\n",
            "_________________________________________________________________\n",
            "Layer (type)                 Output Shape              Param #   \n",
            "=================================================================\n",
            "conv2d_30 (Conv2D)           (None, 29, 29, 32)        1568      \n",
            "_________________________________________________________________\n",
            "dropout_30 (Dropout)         (None, 29, 29, 32)        0         \n",
            "_________________________________________________________________\n",
            "max_pooling2d_30 (MaxPooling (None, 14, 14, 32)        0         \n",
            "_________________________________________________________________\n",
            "batch_normalization_15 (Batc (None, 14, 14, 32)        128       \n",
            "_________________________________________________________________\n",
            "conv2d_31 (Conv2D)           (None, 11, 11, 32)        16416     \n",
            "_________________________________________________________________\n",
            "dropout_31 (Dropout)         (None, 11, 11, 32)        0         \n",
            "_________________________________________________________________\n",
            "max_pooling2d_31 (MaxPooling (None, 5, 5, 32)          0         \n",
            "_________________________________________________________________\n",
            "flatten_15 (Flatten)         (None, 800)               0         \n",
            "_________________________________________________________________\n",
            "dense_30 (Dense)             (None, 256)               205056    \n",
            "_________________________________________________________________\n",
            "dense_31 (Dense)             (None, 10)                2570      \n",
            "=================================================================\n",
            "Total params: 225,738\n",
            "Trainable params: 225,674\n",
            "Non-trainable params: 64\n",
            "_________________________________________________________________\n"
          ],
          "name": "stdout"
        }
      ]
    },
    {
      "cell_type": "code",
      "metadata": {
        "id": "Ga_sXSNuh4LX"
      },
      "source": [
        "from tensorflow.keras.callbacks import EarlyStopping"
      ],
      "execution_count": 125,
      "outputs": []
    },
    {
      "cell_type": "code",
      "metadata": {
        "id": "4G06p0pCh6Fp"
      },
      "source": [
        "early_stop = EarlyStopping(monitor='val_loss', patience=2)"
      ],
      "execution_count": 126,
      "outputs": []
    },
    {
      "cell_type": "markdown",
      "metadata": {
        "id": "4mHQ4RtQVm13"
      },
      "source": [
        "#### Treinamos o Modelo\n",
        "\n",
        "Observe que estamos utilizando **EarlyStopping** para evitar Overfitting."
      ]
    },
    {
      "cell_type": "code",
      "metadata": {
        "colab": {
          "base_uri": "https://localhost:8080/"
        },
        "id": "3LvBWYV2h7Zn",
        "outputId": "217d10db-26eb-44be-dcad-651b01c1140f"
      },
      "source": [
        "model.fit(x_train, y_categorical_train, epochs=20, validation_data=(x_test, y_categorical_test), callbacks=[early_stop]);"
      ],
      "execution_count": 127,
      "outputs": [
        {
          "output_type": "stream",
          "text": [
            "Epoch 1/20\n",
            "1563/1563 [==============================] - 7s 4ms/step - loss: 1.4187 - accuracy: 0.4947 - val_loss: 1.3306 - val_accuracy: 0.5338\n",
            "Epoch 2/20\n",
            "1563/1563 [==============================] - 7s 4ms/step - loss: 1.0976 - accuracy: 0.6134 - val_loss: 1.1753 - val_accuracy: 0.5975\n",
            "Epoch 3/20\n",
            "1563/1563 [==============================] - 7s 4ms/step - loss: 0.9632 - accuracy: 0.6609 - val_loss: 1.1122 - val_accuracy: 0.6153\n",
            "Epoch 4/20\n",
            "1563/1563 [==============================] - 6s 4ms/step - loss: 0.8696 - accuracy: 0.6977 - val_loss: 1.1299 - val_accuracy: 0.6056\n",
            "Epoch 5/20\n",
            "1563/1563 [==============================] - 6s 4ms/step - loss: 0.7977 - accuracy: 0.7225 - val_loss: 0.9851 - val_accuracy: 0.6598\n",
            "Epoch 6/20\n",
            "1563/1563 [==============================] - 6s 4ms/step - loss: 0.7386 - accuracy: 0.7408 - val_loss: 1.0264 - val_accuracy: 0.6321\n",
            "Epoch 7/20\n",
            "1563/1563 [==============================] - 6s 4ms/step - loss: 0.6844 - accuracy: 0.7624 - val_loss: 0.9327 - val_accuracy: 0.6733\n",
            "Epoch 8/20\n",
            "1563/1563 [==============================] - 6s 4ms/step - loss: 0.6348 - accuracy: 0.7780 - val_loss: 0.9058 - val_accuracy: 0.6819\n",
            "Epoch 9/20\n",
            "1563/1563 [==============================] - 6s 4ms/step - loss: 0.5952 - accuracy: 0.7890 - val_loss: 0.9206 - val_accuracy: 0.6846\n",
            "Epoch 10/20\n",
            "1563/1563 [==============================] - 6s 4ms/step - loss: 0.5595 - accuracy: 0.8024 - val_loss: 0.9069 - val_accuracy: 0.6848\n"
          ],
          "name": "stdout"
        }
      ]
    },
    {
      "cell_type": "markdown",
      "metadata": {
        "id": "xtPJIBDCVuR2"
      },
      "source": [
        "#### Observamos o Desempenho do Modelo através de diversas Métricas"
      ]
    },
    {
      "cell_type": "code",
      "metadata": {
        "id": "RCa90IiQh8-W"
      },
      "source": [
        "metrics = pd.DataFrame(model.history.history)"
      ],
      "execution_count": 128,
      "outputs": []
    },
    {
      "cell_type": "code",
      "metadata": {
        "colab": {
          "base_uri": "https://localhost:8080/",
          "height": 359
        },
        "id": "-8ax_xMujGSC",
        "outputId": "525b00b1-3aad-4f45-941b-95505d431c3e"
      },
      "source": [
        "metrics"
      ],
      "execution_count": 129,
      "outputs": [
        {
          "output_type": "execute_result",
          "data": {
            "text/html": [
              "<div>\n",
              "<style scoped>\n",
              "    .dataframe tbody tr th:only-of-type {\n",
              "        vertical-align: middle;\n",
              "    }\n",
              "\n",
              "    .dataframe tbody tr th {\n",
              "        vertical-align: top;\n",
              "    }\n",
              "\n",
              "    .dataframe thead th {\n",
              "        text-align: right;\n",
              "    }\n",
              "</style>\n",
              "<table border=\"1\" class=\"dataframe\">\n",
              "  <thead>\n",
              "    <tr style=\"text-align: right;\">\n",
              "      <th></th>\n",
              "      <th>loss</th>\n",
              "      <th>accuracy</th>\n",
              "      <th>val_loss</th>\n",
              "      <th>val_accuracy</th>\n",
              "    </tr>\n",
              "  </thead>\n",
              "  <tbody>\n",
              "    <tr>\n",
              "      <th>0</th>\n",
              "      <td>1.418733</td>\n",
              "      <td>0.49466</td>\n",
              "      <td>1.330621</td>\n",
              "      <td>0.5338</td>\n",
              "    </tr>\n",
              "    <tr>\n",
              "      <th>1</th>\n",
              "      <td>1.097630</td>\n",
              "      <td>0.61342</td>\n",
              "      <td>1.175325</td>\n",
              "      <td>0.5975</td>\n",
              "    </tr>\n",
              "    <tr>\n",
              "      <th>2</th>\n",
              "      <td>0.963221</td>\n",
              "      <td>0.66088</td>\n",
              "      <td>1.112192</td>\n",
              "      <td>0.6153</td>\n",
              "    </tr>\n",
              "    <tr>\n",
              "      <th>3</th>\n",
              "      <td>0.869553</td>\n",
              "      <td>0.69766</td>\n",
              "      <td>1.129892</td>\n",
              "      <td>0.6056</td>\n",
              "    </tr>\n",
              "    <tr>\n",
              "      <th>4</th>\n",
              "      <td>0.797738</td>\n",
              "      <td>0.72246</td>\n",
              "      <td>0.985135</td>\n",
              "      <td>0.6598</td>\n",
              "    </tr>\n",
              "    <tr>\n",
              "      <th>5</th>\n",
              "      <td>0.738556</td>\n",
              "      <td>0.74078</td>\n",
              "      <td>1.026398</td>\n",
              "      <td>0.6321</td>\n",
              "    </tr>\n",
              "    <tr>\n",
              "      <th>6</th>\n",
              "      <td>0.684428</td>\n",
              "      <td>0.76242</td>\n",
              "      <td>0.932743</td>\n",
              "      <td>0.6733</td>\n",
              "    </tr>\n",
              "    <tr>\n",
              "      <th>7</th>\n",
              "      <td>0.634789</td>\n",
              "      <td>0.77796</td>\n",
              "      <td>0.905803</td>\n",
              "      <td>0.6819</td>\n",
              "    </tr>\n",
              "    <tr>\n",
              "      <th>8</th>\n",
              "      <td>0.595226</td>\n",
              "      <td>0.78898</td>\n",
              "      <td>0.920621</td>\n",
              "      <td>0.6846</td>\n",
              "    </tr>\n",
              "    <tr>\n",
              "      <th>9</th>\n",
              "      <td>0.559491</td>\n",
              "      <td>0.80244</td>\n",
              "      <td>0.906889</td>\n",
              "      <td>0.6848</td>\n",
              "    </tr>\n",
              "  </tbody>\n",
              "</table>\n",
              "</div>"
            ],
            "text/plain": [
              "       loss  accuracy  val_loss  val_accuracy\n",
              "0  1.418733   0.49466  1.330621        0.5338\n",
              "1  1.097630   0.61342  1.175325        0.5975\n",
              "2  0.963221   0.66088  1.112192        0.6153\n",
              "3  0.869553   0.69766  1.129892        0.6056\n",
              "4  0.797738   0.72246  0.985135        0.6598\n",
              "5  0.738556   0.74078  1.026398        0.6321\n",
              "6  0.684428   0.76242  0.932743        0.6733\n",
              "7  0.634789   0.77796  0.905803        0.6819\n",
              "8  0.595226   0.78898  0.920621        0.6846\n",
              "9  0.559491   0.80244  0.906889        0.6848"
            ]
          },
          "metadata": {
            "tags": []
          },
          "execution_count": 129
        }
      ]
    },
    {
      "cell_type": "code",
      "metadata": {
        "colab": {
          "base_uri": "https://localhost:8080/"
        },
        "id": "1EXIF2RkjH9H",
        "outputId": "d049556d-a1da-4a2b-9a0d-6f566150850c"
      },
      "source": [
        "metrics.columns"
      ],
      "execution_count": 130,
      "outputs": [
        {
          "output_type": "execute_result",
          "data": {
            "text/plain": [
              "Index(['loss', 'accuracy', 'val_loss', 'val_accuracy'], dtype='object')"
            ]
          },
          "metadata": {
            "tags": []
          },
          "execution_count": 130
        }
      ]
    },
    {
      "cell_type": "code",
      "metadata": {
        "colab": {
          "base_uri": "https://localhost:8080/",
          "height": 265
        },
        "id": "IQpHo-wljJwA",
        "outputId": "5285aee5-46db-4312-ca14-89f0d02d9efb"
      },
      "source": [
        "metrics[['accuracy', 'val_accuracy']].plot();"
      ],
      "execution_count": 131,
      "outputs": [
        {
          "output_type": "display_data",
          "data": {
            "image/png": "[encoded data removed]",
            "text/plain": [
              "<Figure size 432x288 with 1 Axes>"
            ]
          },
          "metadata": {
            "tags": [],
            "needs_background": "light"
          }
        }
      ]
    },
    {
      "cell_type": "code",
      "metadata": {
        "colab": {
          "base_uri": "https://localhost:8080/",
          "height": 265
        },
        "id": "6pVJFogbjLFN",
        "outputId": "d9c49cc2-acbd-4088-cb2b-f4f86a2e8eb9"
      },
      "source": [
        "metrics[['loss', 'val_loss']].plot();"
      ],
      "execution_count": 132,
      "outputs": [
        {
          "output_type": "display_data",
          "data": {
            "image/png": "[encoded data removed]",
            "text/plain": [
              "<Figure size 432x288 with 1 Axes>"
            ]
          },
          "metadata": {
            "tags": [],
            "needs_background": "light"
          }
        }
      ]
    },
    {
      "cell_type": "code",
      "metadata": {
        "colab": {
          "base_uri": "https://localhost:8080/"
        },
        "id": "zKuniPwhjQej",
        "outputId": "a6677410-9f18-4c1a-b96e-887bad844b6e"
      },
      "source": [
        "model.evaluate(x_test, y_categorical_test, verbose=0)"
      ],
      "execution_count": 133,
      "outputs": [
        {
          "output_type": "execute_result",
          "data": {
            "text/plain": [
              "[0.9068891406059265, 0.6848000288009644]"
            ]
          },
          "metadata": {
            "tags": []
          },
          "execution_count": 133
        }
      ]
    },
    {
      "cell_type": "code",
      "metadata": {
        "id": "A0IMMDpXqIZl"
      },
      "source": [
        "from sklearn.metrics import classification_report, confusion_matrix"
      ],
      "execution_count": 134,
      "outputs": []
    },
    {
      "cell_type": "code",
      "metadata": {
        "id": "GSpM5pHLqK2R"
      },
      "source": [
        "predictions = np.argmax(model.predict(x_test), axis=-1)"
      ],
      "execution_count": 135,
      "outputs": []
    },
    {
      "cell_type": "code",
      "metadata": {
        "colab": {
          "base_uri": "https://localhost:8080/"
        },
        "id": "_UPHQd46qMWI",
        "outputId": "b011575b-e02f-42d4-8a0b-def1380cb68a"
      },
      "source": [
        "print(classification_report(y_test, predictions))"
      ],
      "execution_count": 136,
      "outputs": [
        {
          "output_type": "stream",
          "text": [
            "              precision    recall  f1-score   support\n",
            "\n",
            "           0       0.83      0.52      0.64      1000\n",
            "           1       0.84      0.77      0.80      1000\n",
            "           2       0.61      0.58      0.59      1000\n",
            "           3       0.48      0.55      0.51      1000\n",
            "           4       0.58      0.76      0.66      1000\n",
            "           5       0.56      0.63      0.59      1000\n",
            "           6       0.81      0.75      0.78      1000\n",
            "           7       0.82      0.65      0.73      1000\n",
            "           8       0.70      0.85      0.77      1000\n",
            "           9       0.81      0.79      0.80      1000\n",
            "\n",
            "    accuracy                           0.68     10000\n",
            "   macro avg       0.70      0.68      0.69     10000\n",
            "weighted avg       0.70      0.68      0.69     10000\n",
            "\n"
          ],
          "name": "stdout"
        }
      ]
    },
    {
      "cell_type": "code",
      "metadata": {
        "colab": {
          "base_uri": "https://localhost:8080/"
        },
        "id": "rvivuiREqXha",
        "outputId": "3e4d7674-ae2c-45d1-cea8-878d516ebd7f"
      },
      "source": [
        "confusion_matrix(y_test, predictions)"
      ],
      "execution_count": 137,
      "outputs": [
        {
          "output_type": "execute_result",
          "data": {
            "text/plain": [
              "array([[516,  21,  76,  47,  62,  14,  14,  15, 200,  35],\n",
              "       [ 10, 770,  14,  21,  16,  14,  18,   4,  52,  81],\n",
              "       [ 37,   5, 577,  87, 118,  83,  56,  19,  14,   4],\n",
              "       [  9,   5,  60, 548,  78, 215,  30,  27,  18,  10],\n",
              "       [  7,   2,  53,  64, 764,  34,  28,  33,  14,   1],\n",
              "       [  3,   2,  47, 195,  66, 633,  11,  28,   8,   7],\n",
              "       [  1,   1,  50,  79,  68,  41, 749,   6,   2,   3],\n",
              "       [  8,   1,  37,  76, 112,  81,   9, 653,   4,  19],\n",
              "       [ 13,  41,  25,  18,  17,   9,   7,   3, 846,  21],\n",
              "       [ 14,  73,  10,  18,  12,  15,   7,  10,  49, 792]])"
            ]
          },
          "metadata": {
            "tags": []
          },
          "execution_count": 137
        }
      ]
    },
    {
      "cell_type": "code",
      "metadata": {
        "colab": {
          "base_uri": "https://localhost:8080/",
          "height": 374
        },
        "id": "XRiwriAbqZ16",
        "outputId": "b785f869-f4b7-4d90-cca9-c16fde021332"
      },
      "source": [
        "import seaborn as sns\n",
        "\n",
        "plt.figure(figsize=(10,6))\n",
        "sns.heatmap(confusion_matrix(y_test, predictions),annot=True);"
      ],
      "execution_count": 138,
      "outputs": [
        {
          "output_type": "display_data",
          "data": {
            "image/png": "[encoded data removed]",
            "text/plain": [
              "<Figure size 720x432 with 2 Axes>"
            ]
          },
          "metadata": {
            "tags": [],
            "needs_background": "light"
          }
        }
      ]
    },
    {
      "cell_type": "markdown",
      "metadata": {
        "id": "wSXvuO7gV13K"
      },
      "source": [
        "#### Testamos o Modelo e sua capacidade Preditiva"
      ]
    },
    {
      "cell_type": "code",
      "metadata": {
        "colab": {
          "base_uri": "https://localhost:8080/",
          "height": 266
        },
        "id": "_d3DdEDaqpY3",
        "outputId": "48d2d2d8-d357-4aff-a72a-02be83254597"
      },
      "source": [
        "image = x_test[20]\n",
        "plt.imshow(image);"
      ],
      "execution_count": 139,
      "outputs": [
        {
          "output_type": "display_data",
          "data": {
            "image/png": "[encoded data removed]",
            "text/plain": [
              "<Figure size 432x288 with 1 Axes>"
            ]
          },
          "metadata": {
            "tags": [],
            "needs_background": "light"
          }
        }
      ]
    },
    {
      "cell_type": "code",
      "metadata": {
        "colab": {
          "base_uri": "https://localhost:8080/"
        },
        "id": "r1aNyQluqqhw",
        "outputId": "fdaa6821-ff9b-46a5-c33a-52490b71092e"
      },
      "source": [
        "np.argmax(model.predict(image.reshape(1,32,32,3)), axis=-1)[0]"
      ],
      "execution_count": 140,
      "outputs": [
        {
          "output_type": "execute_result",
          "data": {
            "text/plain": [
              "7"
            ]
          },
          "metadata": {
            "tags": []
          },
          "execution_count": 140
        }
      ]
    },
    {
      "cell_type": "code",
      "metadata": {
        "colab": {
          "base_uri": "https://localhost:8080/",
          "height": 266
        },
        "id": "Kpr-asHsqsaz",
        "outputId": "2227a9eb-bdd4-4752-ba9b-b75717bd96e6"
      },
      "source": [
        "img = x_test[16]\n",
        "plt.imshow(img);"
      ],
      "execution_count": 141,
      "outputs": [
        {
          "output_type": "display_data",
          "data": {
            "image/png": "[encoded data removed]",
            "text/plain": [
              "<Figure size 432x288 with 1 Axes>"
            ]
          },
          "metadata": {
            "tags": [],
            "needs_background": "light"
          }
        }
      ]
    },
    {
      "cell_type": "code",
      "metadata": {
        "colab": {
          "base_uri": "https://localhost:8080/"
        },
        "id": "Y1rqRT1OquEH",
        "outputId": "af5c6a3b-3cf3-4bc5-f124-b4e162ecb4d3"
      },
      "source": [
        "np.argmax(model.predict(img.reshape(1,32,32,3)), axis=-1)[0]"
      ],
      "execution_count": 142,
      "outputs": [
        {
          "output_type": "execute_result",
          "data": {
            "text/plain": [
              "5"
            ]
          },
          "metadata": {
            "tags": []
          },
          "execution_count": 142
        }
      ]
    }
  ]
}